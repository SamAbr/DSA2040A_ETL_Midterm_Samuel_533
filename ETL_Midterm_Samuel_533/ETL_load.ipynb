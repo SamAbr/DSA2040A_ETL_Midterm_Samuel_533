{
 "cells": [
  {
   "cell_type": "markdown",
   "id": "8473e893-18fd-44fd-8e01-98cd6228a2dc",
   "metadata": {},
   "source": [
    "# 💾 ETL Phase 3: Load\r\n",
    "\r\n",
    "## 🎯 Objective\r\n",
    "In this notebook, we load the transformed datasets into a structured format using **SQLite**. This enables efficient querying and integration with analytics tools.\r\n",
    "\r\n",
    "We:\r\n",
    "- Import transformed CSV files\r\n",
    "- Store them into SQLite databases\r\n",
    "- Preview and verify loaded results\r\n"
   ]
  },
  {
   "cell_type": "code",
   "execution_count": 5,
   "id": "ee753f7c-a073-49cc-b2ef-c679df1d3786",
   "metadata": {},
   "outputs": [
    {
     "name": "stdout",
     "output_type": "stream",
     "text": [
      " Preview from full_data.db:\n",
      "   order_id customer_name   region   product  quantity  unit_price  \\\n",
      "0         1         Diana    South    Tablet         1       500.0   \n",
      "1         2           Eve    North  Computer         1       250.0   \n",
      "2         3       Charlie  Unknown  Computer         2       250.0   \n",
      "3         4           Eve     West  Computer         2       750.0   \n",
      "4         5           Eve    South    Tablet         3       750.0   \n",
      "\n",
      "   total_price price_category  order_date  \n",
      "0        500.0      Mid-Range  2024-01-20  \n",
      "1        250.0         Budget  2024-04-29  \n",
      "2        500.0         Budget  2024-01-08  \n",
      "3       1500.0         Budget  2024-01-07  \n",
      "4       2250.0        Premium  2024-03-07  \n",
      "\n",
      " Preview from incremental_data.db:\n",
      "   order_id customer_name   region   product  quantity  unit_price  \\\n",
      "0       101         Alice  Unknown  Computer         1       900.0   \n",
      "1       102     Anonymous  Unknown  Computer         1       300.0   \n",
      "2       103     Anonymous  Unknown  Computer         1       600.0   \n",
      "3       104     Anonymous  Unknown    Tablet         1       300.0   \n",
      "4       105         Heidi    North    Tablet         2       600.0   \n",
      "\n",
      "   total_price price_category  order_date  \n",
      "0        900.0      Mid-Range  2024-05-09  \n",
      "1        300.0         Budget  2024-05-07  \n",
      "2        600.0         Budget  2024-05-04  \n",
      "3        300.0      Mid-Range  2024-05-26  \n",
      "4       1200.0        Premium  2024-05-21  \n"
     ]
    }
   ],
   "source": [
    "import pandas as pd\n",
    "import sqlite3\n",
    "import os\n",
    "\n",
    "# Ensure loaded folder exists\n",
    "os.makedirs(\"loaded\", exist_ok=True)\n",
    "\n",
    "# Load transformed data\n",
    "full_df = pd.read_csv(\"transformed/transformed_full.csv\")\n",
    "incremental_df = pd.read_csv(\"transformed/transformed_incremental.csv\")\n",
    "\n",
    "# Connect to SQLite databases\n",
    "full_conn = sqlite3.connect(\"loaded/full_data.db\")\n",
    "incremental_conn = sqlite3.connect(\"loaded/incremental_data.db\")\n",
    "\n",
    "# Load DataFrames into SQLite\n",
    "full_df.to_sql(\"orders\", full_conn, if_exists=\"replace\", index=False)\n",
    "incremental_df.to_sql(\"orders\", incremental_conn, if_exists=\"replace\", index=False)\n",
    "\n",
    "# Preview 5 rows using SQL\n",
    "print(\" Preview from full_data.db:\")\n",
    "print(pd.read_sql(\"SELECT * FROM orders LIMIT 5\", full_conn))\n",
    "\n",
    "print(\"\\n Preview from incremental_data.db:\")\n",
    "print(pd.read_sql(\"SELECT * FROM orders LIMIT 5\", incremental_conn))\n",
    "\n",
    "# Close connections\n",
    "full_conn.close()\n",
    "incremental_conn.close()"
   ]
  }
 ],
 "metadata": {
  "kernelspec": {
   "display_name": "Python 3 (ipykernel)",
   "language": "python",
   "name": "python3"
  },
  "language_info": {
   "codemirror_mode": {
    "name": "ipython",
    "version": 3
   },
   "file_extension": ".py",
   "mimetype": "text/x-python",
   "name": "python",
   "nbconvert_exporter": "python",
   "pygments_lexer": "ipython3",
   "version": "3.12.4"
  }
 },
 "nbformat": 4,
 "nbformat_minor": 5
}
