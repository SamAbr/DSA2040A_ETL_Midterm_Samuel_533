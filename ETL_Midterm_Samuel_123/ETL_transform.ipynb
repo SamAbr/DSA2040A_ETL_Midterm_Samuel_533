{
 "cells": [
  {
   "cell_type": "markdown",
   "id": "0f3de894-fe19-403d-9e2f-249b18501b07",
   "metadata": {},
   "source": [
    "# 🧹 Step 2: Apply Transformations\n",
    "## Data Loading"
   ]
  },
  {
   "cell_type": "code",
   "execution_count": 2,
   "id": "4a281dca-31c3-4457-960d-7afa7043fa56",
   "metadata": {},
   "outputs": [
    {
     "name": "stdout",
     "output_type": "stream",
     "text": [
      " Raw Data Loaded:\n"
     ]
    },
    {
     "data": {
      "text/html": [
       "<div>\n",
       "<style scoped>\n",
       "    .dataframe tbody tr th:only-of-type {\n",
       "        vertical-align: middle;\n",
       "    }\n",
       "\n",
       "    .dataframe tbody tr th {\n",
       "        vertical-align: top;\n",
       "    }\n",
       "\n",
       "    .dataframe thead th {\n",
       "        text-align: right;\n",
       "    }\n",
       "</style>\n",
       "<table border=\"1\" class=\"dataframe\">\n",
       "  <thead>\n",
       "    <tr style=\"text-align: right;\">\n",
       "      <th></th>\n",
       "      <th>order_id</th>\n",
       "      <th>customer_name</th>\n",
       "      <th>product</th>\n",
       "      <th>quantity</th>\n",
       "      <th>unit_price</th>\n",
       "      <th>order_date</th>\n",
       "      <th>region</th>\n",
       "    </tr>\n",
       "  </thead>\n",
       "  <tbody>\n",
       "    <tr>\n",
       "      <th>0</th>\n",
       "      <td>1</td>\n",
       "      <td>Diana</td>\n",
       "      <td>Tablet</td>\n",
       "      <td>NaN</td>\n",
       "      <td>500.0</td>\n",
       "      <td>2024-01-20</td>\n",
       "      <td>South</td>\n",
       "    </tr>\n",
       "    <tr>\n",
       "      <th>1</th>\n",
       "      <td>2</td>\n",
       "      <td>Eve</td>\n",
       "      <td>Laptop</td>\n",
       "      <td>NaN</td>\n",
       "      <td>NaN</td>\n",
       "      <td>2024-04-29</td>\n",
       "      <td>North</td>\n",
       "    </tr>\n",
       "    <tr>\n",
       "      <th>2</th>\n",
       "      <td>3</td>\n",
       "      <td>Charlie</td>\n",
       "      <td>Laptop</td>\n",
       "      <td>2.0</td>\n",
       "      <td>250.0</td>\n",
       "      <td>2024-01-08</td>\n",
       "      <td>NaN</td>\n",
       "    </tr>\n",
       "    <tr>\n",
       "      <th>3</th>\n",
       "      <td>4</td>\n",
       "      <td>Eve</td>\n",
       "      <td>Laptop</td>\n",
       "      <td>2.0</td>\n",
       "      <td>750.0</td>\n",
       "      <td>2024-01-07</td>\n",
       "      <td>West</td>\n",
       "    </tr>\n",
       "    <tr>\n",
       "      <th>4</th>\n",
       "      <td>5</td>\n",
       "      <td>Eve</td>\n",
       "      <td>Tablet</td>\n",
       "      <td>3.0</td>\n",
       "      <td>NaN</td>\n",
       "      <td>2024-03-07</td>\n",
       "      <td>South</td>\n",
       "    </tr>\n",
       "  </tbody>\n",
       "</table>\n",
       "</div>"
      ],
      "text/plain": [
       "   order_id customer_name product  quantity  unit_price  order_date region\n",
       "0         1         Diana  Tablet       NaN       500.0  2024-01-20  South\n",
       "1         2           Eve  Laptop       NaN         NaN  2024-04-29  North\n",
       "2         3       Charlie  Laptop       2.0       250.0  2024-01-08    NaN\n",
       "3         4           Eve  Laptop       2.0       750.0  2024-01-07   West\n",
       "4         5           Eve  Tablet       3.0         NaN  2024-03-07  South"
      ]
     },
     "metadata": {},
     "output_type": "display_data"
    },
    {
     "name": "stdout",
     "output_type": "stream",
     "text": [
      "\n",
      " Incremental Data Loaded:\n"
     ]
    },
    {
     "data": {
      "text/html": [
       "<div>\n",
       "<style scoped>\n",
       "    .dataframe tbody tr th:only-of-type {\n",
       "        vertical-align: middle;\n",
       "    }\n",
       "\n",
       "    .dataframe tbody tr th {\n",
       "        vertical-align: top;\n",
       "    }\n",
       "\n",
       "    .dataframe thead th {\n",
       "        text-align: right;\n",
       "    }\n",
       "</style>\n",
       "<table border=\"1\" class=\"dataframe\">\n",
       "  <thead>\n",
       "    <tr style=\"text-align: right;\">\n",
       "      <th></th>\n",
       "      <th>order_id</th>\n",
       "      <th>customer_name</th>\n",
       "      <th>product</th>\n",
       "      <th>quantity</th>\n",
       "      <th>unit_price</th>\n",
       "      <th>order_date</th>\n",
       "      <th>region</th>\n",
       "    </tr>\n",
       "  </thead>\n",
       "  <tbody>\n",
       "    <tr>\n",
       "      <th>0</th>\n",
       "      <td>101</td>\n",
       "      <td>Alice</td>\n",
       "      <td>Laptop</td>\n",
       "      <td>NaN</td>\n",
       "      <td>900.0</td>\n",
       "      <td>2024-05-09</td>\n",
       "      <td>Central</td>\n",
       "    </tr>\n",
       "    <tr>\n",
       "      <th>1</th>\n",
       "      <td>102</td>\n",
       "      <td>NaN</td>\n",
       "      <td>Laptop</td>\n",
       "      <td>1.0</td>\n",
       "      <td>300.0</td>\n",
       "      <td>2024-05-07</td>\n",
       "      <td>Central</td>\n",
       "    </tr>\n",
       "    <tr>\n",
       "      <th>2</th>\n",
       "      <td>103</td>\n",
       "      <td>NaN</td>\n",
       "      <td>Laptop</td>\n",
       "      <td>1.0</td>\n",
       "      <td>600.0</td>\n",
       "      <td>2024-05-04</td>\n",
       "      <td>Central</td>\n",
       "    </tr>\n",
       "    <tr>\n",
       "      <th>3</th>\n",
       "      <td>104</td>\n",
       "      <td>NaN</td>\n",
       "      <td>Tablet</td>\n",
       "      <td>NaN</td>\n",
       "      <td>300.0</td>\n",
       "      <td>2024-05-26</td>\n",
       "      <td>Central</td>\n",
       "    </tr>\n",
       "    <tr>\n",
       "      <th>4</th>\n",
       "      <td>105</td>\n",
       "      <td>Heidi</td>\n",
       "      <td>Tablet</td>\n",
       "      <td>2.0</td>\n",
       "      <td>600.0</td>\n",
       "      <td>2024-05-21</td>\n",
       "      <td>North</td>\n",
       "    </tr>\n",
       "  </tbody>\n",
       "</table>\n",
       "</div>"
      ],
      "text/plain": [
       "   order_id customer_name product  quantity  unit_price  order_date   region\n",
       "0       101         Alice  Laptop       NaN       900.0  2024-05-09  Central\n",
       "1       102           NaN  Laptop       1.0       300.0  2024-05-07  Central\n",
       "2       103           NaN  Laptop       1.0       600.0  2024-05-04  Central\n",
       "3       104           NaN  Tablet       NaN       300.0  2024-05-26  Central\n",
       "4       105         Heidi  Tablet       2.0       600.0  2024-05-21    North"
      ]
     },
     "metadata": {},
     "output_type": "display_data"
    }
   ],
   "source": [
    "import matplotlib.pyplot as plt\n",
    "import seaborn as sns\n",
    "import pandas as pd\n",
    "import numpy as np\n",
    "import os\n",
    "\n",
    "\n",
    "# Ensure 'transformed' directory exists\n",
    "os.makedirs(\"transformed\", exist_ok=True)\n",
    "\n",
    "# Load extracted datasets\n",
    "raw_df = pd.read_csv(\"data/raw_data.csv\")\n",
    "incremental_df = pd.read_csv(\"data/incremental_data.csv\")\n",
    "\n",
    "# Preview to confirm successful loading\n",
    "print(\" Raw Data Loaded:\")\n",
    "display(raw_df.head())\n",
    "\n",
    "print(\"\\n Incremental Data Loaded:\")\n",
    "display(incremental_df.head())"
   ]
  },
  {
   "cell_type": "markdown",
   "id": "5f13cab2-1083-4d08-817f-5b580fb46a46",
   "metadata": {},
   "source": [
    "## Data Exploration and Cleaning"
   ]
  },
  {
   "cell_type": "code",
   "execution_count": 4,
   "id": "c98a620f-27a0-4d56-aaeb-627177a5f984",
   "metadata": {},
   "outputs": [
    {
     "name": "stdout",
     "output_type": "stream",
     "text": [
      "<class 'pandas.core.frame.DataFrame'>\n",
      "RangeIndex: 100 entries, 0 to 99\n",
      "Data columns (total 7 columns):\n",
      " #   Column         Non-Null Count  Dtype  \n",
      "---  ------         --------------  -----  \n",
      " 0   order_id       100 non-null    int64  \n",
      " 1   customer_name  99 non-null     object \n",
      " 2   product        100 non-null    object \n",
      " 3   quantity       74 non-null     float64\n",
      " 4   unit_price     65 non-null     float64\n",
      " 5   order_date     99 non-null     object \n",
      " 6   region         75 non-null     object \n",
      "dtypes: float64(2), int64(1), object(4)\n",
      "memory usage: 5.6+ KB\n"
     ]
    }
   ],
   "source": [
    "# Data types and missing values\n",
    "raw_df.info()"
   ]
  },
  {
   "cell_type": "code",
   "execution_count": 5,
   "id": "518e9dcc-7b8a-4f8d-a17c-d271c352fa5c",
   "metadata": {},
   "outputs": [
    {
     "data": {
      "text/plain": [
       "1"
      ]
     },
     "execution_count": 5,
     "metadata": {},
     "output_type": "execute_result"
    }
   ],
   "source": [
    "# Duplicate values\n",
    "raw_df.duplicated().sum()"
   ]
  },
  {
   "cell_type": "markdown",
   "id": "8262e872-1ec4-4fec-8436-fd64811b32bd",
   "metadata": {},
   "source": [
    "### Explore 'order_id' Column"
   ]
  },
  {
   "cell_type": "code",
   "execution_count": 7,
   "id": "1a971e9f-5858-4662-a616-4a2a2f7c766b",
   "metadata": {},
   "outputs": [
    {
     "data": {
      "text/plain": [
       "0"
      ]
     },
     "execution_count": 7,
     "metadata": {},
     "output_type": "execute_result"
    }
   ],
   "source": [
    "# Check missing values\n",
    "raw_df[\"order_id\"].isnull().sum()"
   ]
  },
  {
   "cell_type": "code",
   "execution_count": 8,
   "id": "4d5f9707-80ac-4e2b-9432-442e68755984",
   "metadata": {},
   "outputs": [
    {
     "data": {
      "text/plain": [
       "1"
      ]
     },
     "execution_count": 8,
     "metadata": {},
     "output_type": "execute_result"
    }
   ],
   "source": [
    "# Check for duplicates\n",
    "raw_df[\"order_id\"].duplicated().sum()"
   ]
  },
  {
   "cell_type": "markdown",
   "id": "a8ca5dd6-a7f0-44ee-99e2-f85ae12a593d",
   "metadata": {},
   "source": [
    "We have one duplicated value.\n",
    "\n",
    "Let's see which order_id is duplicate."
   ]
  },
  {
   "cell_type": "code",
   "execution_count": 10,
   "id": "07eaf38c-e96b-4c2d-ae3a-95232f9a762f",
   "metadata": {},
   "outputs": [
    {
     "data": {
      "text/html": [
       "<div>\n",
       "<style scoped>\n",
       "    .dataframe tbody tr th:only-of-type {\n",
       "        vertical-align: middle;\n",
       "    }\n",
       "\n",
       "    .dataframe tbody tr th {\n",
       "        vertical-align: top;\n",
       "    }\n",
       "\n",
       "    .dataframe thead th {\n",
       "        text-align: right;\n",
       "    }\n",
       "</style>\n",
       "<table border=\"1\" class=\"dataframe\">\n",
       "  <thead>\n",
       "    <tr style=\"text-align: right;\">\n",
       "      <th></th>\n",
       "      <th>order_id</th>\n",
       "      <th>customer_name</th>\n",
       "      <th>product</th>\n",
       "      <th>quantity</th>\n",
       "      <th>unit_price</th>\n",
       "      <th>order_date</th>\n",
       "      <th>region</th>\n",
       "    </tr>\n",
       "  </thead>\n",
       "  <tbody>\n",
       "    <tr>\n",
       "      <th>5</th>\n",
       "      <td>4</td>\n",
       "      <td>Eve</td>\n",
       "      <td>Laptop</td>\n",
       "      <td>2.0</td>\n",
       "      <td>750.0</td>\n",
       "      <td>2024-01-07</td>\n",
       "      <td>West</td>\n",
       "    </tr>\n",
       "  </tbody>\n",
       "</table>\n",
       "</div>"
      ],
      "text/plain": [
       "   order_id customer_name product  quantity  unit_price  order_date region\n",
       "5         4           Eve  Laptop       2.0       750.0  2024-01-07   West"
      ]
     },
     "execution_count": 10,
     "metadata": {},
     "output_type": "execute_result"
    }
   ],
   "source": [
    "raw_df[raw_df[\"order_id\"].duplicated()]"
   ]
  },
  {
   "cell_type": "markdown",
   "id": "eb744270-06ce-4cfc-bfd8-4cf72feeb9d3",
   "metadata": {},
   "source": [
    "The duplicated value is the order_id '4'.\n",
    "\n",
    "Since 'order_id' is our unique identifier this is most probably the same record, therefore, we shall drop this row."
   ]
  },
  {
   "cell_type": "code",
   "execution_count": 12,
   "id": "0d597db1-493a-459c-ac50-4ee38269229d",
   "metadata": {},
   "outputs": [],
   "source": [
    "raw_df.drop_duplicates(inplace=True)"
   ]
  },
  {
   "cell_type": "markdown",
   "id": "5958acc0-2601-420f-8482-c9eea745e243",
   "metadata": {},
   "source": [
    "### Explore 'customer_name' Column"
   ]
  },
  {
   "cell_type": "code",
   "execution_count": 14,
   "id": "d98afcd2-cc93-40d4-bdc6-03b31e7a0608",
   "metadata": {},
   "outputs": [
    {
     "data": {
      "text/plain": [
       "1"
      ]
     },
     "execution_count": 14,
     "metadata": {},
     "output_type": "execute_result"
    }
   ],
   "source": [
    "raw_df[\"customer_name\"].isnull().sum()"
   ]
  },
  {
   "cell_type": "markdown",
   "id": "db40403f-c54e-4c52-a691-3c1d9427912b",
   "metadata": {},
   "source": [
    "We have one missing value of 'customer_name'."
   ]
  },
  {
   "cell_type": "code",
   "execution_count": 16,
   "id": "35c810c6-79c1-46e3-b800-3122e24a105d",
   "metadata": {},
   "outputs": [
    {
     "data": {
      "text/plain": [
       "array(['Diana', 'Eve', 'Charlie', nan, 'Frank', 'Bob', 'Alice'],\n",
       "      dtype=object)"
      ]
     },
     "execution_count": 16,
     "metadata": {},
     "output_type": "execute_result"
    }
   ],
   "source": [
    "raw_df[\"customer_name\"].unique()"
   ]
  },
  {
   "cell_type": "markdown",
   "id": "6720f937-e8b0-4ad1-abcd-eea6a1ba2482",
   "metadata": {},
   "source": [
    "We will impute the name with 'Anonymous'."
   ]
  },
  {
   "cell_type": "code",
   "execution_count": 18,
   "id": "141d0893-0d75-400e-9d7e-5584ced68e2b",
   "metadata": {},
   "outputs": [],
   "source": [
    "# For customer_name (string column), fill with placeholder\n",
    "raw_df['customer_name'] = raw_df['customer_name'].fillna('Anonymous')"
   ]
  },
  {
   "cell_type": "markdown",
   "id": "8073b062-3cf3-46e2-b1ce-982249c4906e",
   "metadata": {},
   "source": [
    "### Explore 'product' Column"
   ]
  },
  {
   "cell_type": "code",
   "execution_count": 20,
   "id": "57735fc0-fa80-4145-93db-16c631a4cd92",
   "metadata": {},
   "outputs": [
    {
     "data": {
      "text/plain": [
       "0"
      ]
     },
     "execution_count": 20,
     "metadata": {},
     "output_type": "execute_result"
    }
   ],
   "source": [
    "raw_df[\"product\"].isnull().sum()"
   ]
  },
  {
   "cell_type": "markdown",
   "id": "5b64efc2-a74a-4a47-a933-7779a06081f8",
   "metadata": {},
   "source": [
    "Perfect! no missing values."
   ]
  },
  {
   "cell_type": "code",
   "execution_count": 22,
   "id": "558728fd-1f67-443b-a447-8e6f7bdf77a5",
   "metadata": {},
   "outputs": [
    {
     "data": {
      "text/plain": [
       "array(['Tablet', 'Laptop', 'Monitor', 'Phone'], dtype=object)"
      ]
     },
     "execution_count": 22,
     "metadata": {},
     "output_type": "execute_result"
    }
   ],
   "source": [
    "raw_df[\"product\"].unique()"
   ]
  },
  {
   "cell_type": "markdown",
   "id": "0e6525e7-bd6c-4128-b6c2-68a655853c41",
   "metadata": {},
   "source": [
    "The products sold are 'Tablet', 'Laptop', 'Monitor', and 'Phone'.\n",
    "\n",
    "This column is perfect, but let's make sure the values are consistent using the following code."
   ]
  },
  {
   "cell_type": "code",
   "execution_count": 24,
   "id": "8ad55ea1-c6e2-4f62-92c5-b13c7ae901e7",
   "metadata": {},
   "outputs": [],
   "source": [
    "# Define allowed product categories\n",
    "ALLOWED_PRODUCTS = [\"Tablet\", \"Phone\", \"Computer\", \"Monitor\"]\n",
    "\n",
    "# Standardize text format (convert to string, strip whitespace, capitalize)\n",
    "raw_df[\"product\"] = raw_df[\"product\"].astype(str).str.strip().str.title()\n",
    "\n",
    "# Fix common typos and variants\n",
    "typo_map = {\n",
    "    \"LapTop\": \"Laptop\",\n",
    "    \"Laptp\": \"Laptop\",\n",
    "    \"Pc\": \"Computer\",\n",
    "    \"DeskTop\": \"Computer\",\n",
    "    \"Mob\": \"Phone\",\n",
    "    \"Smartphone\": \"Phone\",\n",
    "    \"Tab\": \"Tablet\",\n",
    "    \"Moni\": \"Monitor\"\n",
    "}\n",
    "raw_df[\"product\"] = raw_df[\"product\"].replace(typo_map)\n",
    "\n",
    "# Consolidate similar categories\n",
    "consolidation_map = {\n",
    "    \"Laptop\": \"Computer\",  # Merge laptops into computers\n",
    "    \"Desktop\": \"Computer\",\n",
    "    \"Smart Phone\": \"Phone\"\n",
    "}\n",
    "raw_df[\"product\"] = raw_df[\"product\"].replace(consolidation_map)\n",
    "\n",
    "# Validate against allowed list\n",
    "raw_df[\"product\"] = np.where(\n",
    "    raw_df[\"product\"].isin(ALLOWED_PRODUCTS),\n",
    "    raw_df[\"product\"],\n",
    "    np.nan  # Replace invalid entries with NaN\n",
    ")"
   ]
  },
  {
   "cell_type": "markdown",
   "id": "d0f6d3f8-c896-4789-98b9-91f56ec008af",
   "metadata": {},
   "source": [
    "### Explore 'quantity' Column"
   ]
  },
  {
   "cell_type": "code",
   "execution_count": 26,
   "id": "3f658693-7b1f-4dbd-908f-8a5154e64721",
   "metadata": {},
   "outputs": [
    {
     "data": {
      "text/plain": [
       "26"
      ]
     },
     "execution_count": 26,
     "metadata": {},
     "output_type": "execute_result"
    }
   ],
   "source": [
    "raw_df[\"quantity\"].isnull().sum()"
   ]
  },
  {
   "cell_type": "markdown",
   "id": "45b52d70-5eb0-476e-b593-335ea2630e96",
   "metadata": {},
   "source": [
    "We have 26 missing values.\n",
    "\n",
    "As quantity of products ordered depends on the purchasing behaviour of the buyer, we will impute the values by mode of the quantity grouped by customer_name."
   ]
  },
  {
   "cell_type": "code",
   "execution_count": 28,
   "id": "d83b4036-19d3-4ba8-af3d-1cbfed5066f7",
   "metadata": {},
   "outputs": [
    {
     "data": {
      "text/plain": [
       "array([nan,  2.,  3.,  1.])"
      ]
     },
     "execution_count": 28,
     "metadata": {},
     "output_type": "execute_result"
    }
   ],
   "source": [
    "raw_df['quantity'].unique()"
   ]
  },
  {
   "cell_type": "code",
   "execution_count": 29,
   "id": "41d2f68c-c687-4cf0-82c1-be07bdcbb20d",
   "metadata": {},
   "outputs": [],
   "source": [
    "# Fill missing quantity with the most frequent quantity per customer\n",
    "raw_df[\"quantity\"] = raw_df.groupby(\"customer_name\")[\"quantity\"].transform(\n",
    "    lambda x: x.fillna(x.mode()[0]) if not x.mode().empty else x.fillna(1)\n",
    ")"
   ]
  },
  {
   "cell_type": "code",
   "execution_count": 30,
   "id": "79d2eae3-d624-4842-b4bf-602a55b448ce",
   "metadata": {},
   "outputs": [
    {
     "data": {
      "text/plain": [
       "array([1., 2., 3.])"
      ]
     },
     "execution_count": 30,
     "metadata": {},
     "output_type": "execute_result"
    }
   ],
   "source": [
    "raw_df['quantity'].unique()"
   ]
  },
  {
   "cell_type": "code",
   "execution_count": 31,
   "id": "58fefafc-ba4d-4ff1-b49b-c8b613603e30",
   "metadata": {},
   "outputs": [],
   "source": [
    "# Quantity to int\n",
    "raw_df['quantity'] = raw_df['quantity'].astype(int)"
   ]
  },
  {
   "cell_type": "markdown",
   "id": "c9f6b9f3-36ab-45c7-84e3-7e84e79d1135",
   "metadata": {},
   "source": [
    "### Explore 'unit_price' Column"
   ]
  },
  {
   "cell_type": "code",
   "execution_count": 33,
   "id": "abc71740-6b8e-4052-a3ee-0137eee83965",
   "metadata": {},
   "outputs": [
    {
     "data": {
      "text/plain": [
       "35"
      ]
     },
     "execution_count": 33,
     "metadata": {},
     "output_type": "execute_result"
    }
   ],
   "source": [
    "raw_df[\"unit_price\"].isnull().sum()"
   ]
  },
  {
   "cell_type": "markdown",
   "id": "f8eaac45-fb93-4040-8a30-e039f7c26806",
   "metadata": {},
   "source": [
    "Our data contains 35 missing values of unit price.\n",
    "\n",
    "Let's see if each product has a consistent price."
   ]
  },
  {
   "cell_type": "code",
   "execution_count": 35,
   "id": "d4339363-2360-4f44-a1ec-ddea631e8cf3",
   "metadata": {},
   "outputs": [
    {
     "name": "stdout",
     "output_type": "stream",
     "text": [
      "\n",
      " Tablet\n",
      "unit_price\n",
      "750.0    10\n",
      "500.0     8\n",
      "250.0     7\n",
      "Name: count, dtype: int64\n",
      "\n",
      " Computer\n",
      "unit_price\n",
      "250.0    9\n",
      "500.0    4\n",
      "750.0    2\n",
      "Name: count, dtype: int64\n",
      "\n",
      " Monitor\n",
      "unit_price\n",
      "750.0    6\n",
      "500.0    6\n",
      "250.0    4\n",
      "Name: count, dtype: int64\n",
      "\n",
      " Phone\n",
      "unit_price\n",
      "750.0    4\n",
      "250.0    3\n",
      "500.0    1\n",
      "Name: count, dtype: int64\n"
     ]
    }
   ],
   "source": [
    "for product in raw_df[\"product\"].unique():\n",
    "    print(\"\\n\", product)\n",
    "    print(raw_df[raw_df[\"product\"] == product][\"unit_price\"].value_counts())"
   ]
  },
  {
   "cell_type": "code",
   "execution_count": 36,
   "id": "b52a77ba-98c5-4d4f-a517-9564b5ab258c",
   "metadata": {},
   "outputs": [
    {
     "data": {
      "image/png": "[encoded data removed]",
      "text/plain": [
       "<Figure size 1200x600 with 1 Axes>"
      ]
     },
     "metadata": {},
     "output_type": "display_data"
    }
   ],
   "source": [
    "# Prepare data\n",
    "price_counts = raw_df.groupby(['product', 'unit_price']).size().reset_index(name='count')\n",
    "\n",
    "# Create figure\n",
    "plt.figure(figsize=(12, 6))\n",
    "\n",
    "# Get unique products and create positions\n",
    "products = price_counts['product'].unique()\n",
    "max_prices = max(price_counts.groupby('product')['unit_price'].nunique())\n",
    "bar_width = 0.8 / max_prices  # Dynamic width based on max prices per product\n",
    "\n",
    "# Create color palette\n",
    "unique_prices = price_counts['unit_price'].unique()\n",
    "palette = sns.color_palette(\"viridis\", len(unique_prices))\n",
    "price_color_map = {price: palette[i] for i, price in enumerate(sorted(unique_prices))}\n",
    "\n",
    "# Plot each product's prices\n",
    "for i, product in enumerate(products):\n",
    "    product_data = price_counts[price_counts['product'] == product]\n",
    "    \n",
    "    # Calculate positions for this product's bars\n",
    "    x_pos = i + np.arange(len(product_data)) * bar_width - (len(product_data)-1)*bar_width/2\n",
    "    \n",
    "    for j, (_, row) in enumerate(product_data.iterrows()):\n",
    "        plt.bar(\n",
    "            x_pos[j],\n",
    "            row['count'],\n",
    "            width=bar_width*0.9,\n",
    "            color=price_color_map[row['unit_price']],\n",
    "            label=f\"{row['unit_price']}\" if i == 0 else \"\"\n",
    "        )\n",
    "\n",
    "# Customize plot\n",
    "plt.title('Product Price Distribution (Colored by Price Value)')\n",
    "plt.xlabel('Product')\n",
    "plt.ylabel('Count')\n",
    "plt.xticks(np.arange(len(products)), products)\n",
    "plt.legend(title='Price Values', bbox_to_anchor=(1.05, 1), loc='upper left')\n",
    "\n",
    "plt.tight_layout()\n",
    "plt.show()"
   ]
  },
  {
   "cell_type": "markdown",
   "id": "8d796273-0702-4213-abf9-06916e2f16ee",
   "metadata": {},
   "source": [
    "Product doesn't seem to help.\n",
    "\n",
    "Let's see if each product has a fixed price in each region."
   ]
  },
  {
   "cell_type": "code",
   "execution_count": 38,
   "id": "f6a4f351-f3be-418e-82c6-152d60592bfd",
   "metadata": {},
   "outputs": [
    {
     "name": "stdout",
     "output_type": "stream",
     "text": [
      "\n",
      " South\n",
      "product\n",
      "Computer                  [nan, 250.0]\n",
      "Monitor                   [nan, 750.0]\n",
      "Phone                     [nan, 250.0]\n",
      "Tablet      [500.0, nan, 250.0, 750.0]\n",
      "Name: unit_price, dtype: object\n",
      "\n",
      " North\n",
      "product\n",
      "Computer    [nan, 250.0, 500.0]\n",
      "Monitor                 [500.0]\n",
      "Phone              [750.0, nan]\n",
      "Tablet      [nan, 250.0, 750.0]\n",
      "Name: unit_price, dtype: object\n",
      "\n",
      " nan\n",
      "Series([], Name: unit_price, dtype: float64)\n",
      "\n",
      " West\n",
      "product\n",
      "Computer           [750.0, nan, 500.0]\n",
      "Monitor     [750.0, 500.0, 250.0, nan]\n",
      "Phone              [750.0, 500.0, nan]\n",
      "Tablet           [750.0, 500.0, 250.0]\n",
      "Name: unit_price, dtype: object\n",
      "\n",
      " East\n",
      "product\n",
      "Computer    [250.0, 500.0]\n",
      "Monitor       [750.0, nan]\n",
      "Phone                [nan]\n",
      "Tablet        [750.0, nan]\n",
      "Name: unit_price, dtype: object\n"
     ]
    }
   ],
   "source": [
    "for region in raw_df[\"region\"].unique():\n",
    "    print(\"\\n\", region)\n",
    "    print(raw_df[raw_df[\"region\"] == region].groupby(\"product\")[\"unit_price\"].unique())"
   ]
  },
  {
   "cell_type": "code",
   "execution_count": 39,
   "id": "d2171b8d-c3c7-4da9-9f80-e0d1e8e8b812",
   "metadata": {},
   "outputs": [
    {
     "data": {
      "image/png": "[encoded data removed]",
      "text/plain": [
       "<Figure size 1294.74x800 with 4 Axes>"
      ]
     },
     "metadata": {},
     "output_type": "display_data"
    }
   ],
   "source": [
    "# Prepare the data\n",
    "price_data = []\n",
    "for region in raw_df[\"region\"].unique():\n",
    "    region_df = raw_df[raw_df[\"region\"] == region]\n",
    "    for product in region_df[\"product\"].unique():\n",
    "        prices = region_df[region_df[\"product\"] == product][\"unit_price\"].unique()\n",
    "        for price in prices:\n",
    "            if pd.notna(price):\n",
    "                price_data.append({\n",
    "                    \"Region\": region,\n",
    "                    \"Product\": product,\n",
    "                    \"Price\": price,\n",
    "                    \"Count\": len(region_df[(region_df[\"product\"] == product) & \n",
    "                                         (region_df[\"unit_price\"] == price)])\n",
    "                })\n",
    "\n",
    "price_df = pd.DataFrame(price_data)\n",
    "\n",
    "# Create visualization\n",
    "g = sns.FacetGrid(price_df, col=\"Region\", col_wrap=3, height=4, sharey=False)\n",
    "g.map_dataframe(sns.barplot, x=\"Product\", y=\"Count\", hue=\"Price\", \n",
    "                palette=\"viridis\", dodge=True)\n",
    "g.add_legend(title=\"Price Values\")\n",
    "g.set_titles(\"{col_name}\")\n",
    "g.set_axis_labels(\"Product\", \"Count\")\n",
    "g.fig.suptitle(\"Price Distribution by Product Across Regions\", y=1.05)\n",
    "\n",
    "plt.tight_layout()\n",
    "plt.show()"
   ]
  },
  {
   "cell_type": "markdown",
   "id": "73060f00-13c2-45be-aed8-9fdb50056ac4",
   "metadata": {},
   "source": [
    "From this, we can see that phone, monitor, and laptop has a fixed price in south which means we can impute them with the price of the price of corresponding product sold in south. We can use similar approach to impute phone and monitor in north and monitor and tablet in east.\n",
    "\n",
    "We can use the global mode of the product to impute the rest."
   ]
  },
  {
   "cell_type": "code",
   "execution_count": 41,
   "id": "576469c0-e6ef-432a-a921-b33d97e354d8",
   "metadata": {},
   "outputs": [
    {
     "data": {
      "text/plain": [
       "35"
      ]
     },
     "execution_count": 41,
     "metadata": {},
     "output_type": "execute_result"
    }
   ],
   "source": [
    "raw_df[\"unit_price\"].isnull().sum()"
   ]
  },
  {
   "cell_type": "code",
   "execution_count": 42,
   "id": "2b60710e-534c-420f-98a9-86f391d3adb5",
   "metadata": {},
   "outputs": [],
   "source": [
    "# For each region-product group, impute NaN if only one unique non-NaN price exists\n",
    "for region in raw_df[\"region\"].dropna().unique():  # Skip NaN regions\n",
    "    for product in raw_df[\"product\"].unique():\n",
    "        # Filter data for the current region-product group\n",
    "        mask = (raw_df[\"region\"] == region) & (raw_df[\"product\"] == product)\n",
    "        group_prices = raw_df.loc[mask, \"unit_price\"]\n",
    "        \n",
    "        # Get unique non-NaN prices\n",
    "        unique_prices = group_prices.dropna().unique()\n",
    "        \n",
    "        # If only one unique price exists, impute NaN with that price\n",
    "        if len(unique_prices) == 1:\n",
    "            impute_value = unique_prices[0]\n",
    "            raw_df.loc[mask & (raw_df[\"unit_price\"].isna()), \"unit_price\"] = impute_value"
   ]
  },
  {
   "cell_type": "code",
   "execution_count": 43,
   "id": "d88db72d-64b9-4c1f-8d77-f32a57c15a99",
   "metadata": {},
   "outputs": [
    {
     "data": {
      "text/plain": [
       "23"
      ]
     },
     "execution_count": 43,
     "metadata": {},
     "output_type": "execute_result"
    }
   ],
   "source": [
    "raw_df[\"unit_price\"].isnull().sum()"
   ]
  },
  {
   "cell_type": "code",
   "execution_count": 44,
   "id": "233f9b6f-8a83-4eb7-a16a-a4b5b5b9ed0c",
   "metadata": {},
   "outputs": [],
   "source": [
    "# For remaining NaNs, impute with the product's global mode price\n",
    "for product in raw_df[\"product\"].unique():\n",
    "    product_mode = raw_df[raw_df[\"product\"] == product][\"unit_price\"].mode()\n",
    "    if not product_mode.empty:  # Check if mode exists (non-empty)\n",
    "        mode_price = product_mode[0]\n",
    "        product_mask = (raw_df[\"product\"] == product) & (raw_df[\"unit_price\"].isna())\n",
    "        raw_df.loc[product_mask, \"unit_price\"] = mode_price"
   ]
  },
  {
   "cell_type": "code",
   "execution_count": 45,
   "id": "bb353b81-f1a5-4b2e-a65e-bae5a9008388",
   "metadata": {},
   "outputs": [
    {
     "data": {
      "text/plain": [
       "0"
      ]
     },
     "execution_count": 45,
     "metadata": {},
     "output_type": "execute_result"
    }
   ],
   "source": [
    "raw_df[\"unit_price\"].isnull().sum()"
   ]
  },
  {
   "cell_type": "markdown",
   "id": "496656d2-2eab-4eef-8117-3bdc591dea72",
   "metadata": {},
   "source": [
    "### Explore 'order_date' Column"
   ]
  },
  {
   "cell_type": "code",
   "execution_count": 47,
   "id": "b24852d4-4da9-4b01-9a93-52d1a65c6c24",
   "metadata": {},
   "outputs": [
    {
     "data": {
      "text/plain": [
       "1"
      ]
     },
     "execution_count": 47,
     "metadata": {},
     "output_type": "execute_result"
    }
   ],
   "source": [
    "raw_df[\"order_date\"].isnull().sum()"
   ]
  },
  {
   "cell_type": "markdown",
   "id": "7975dba9-ccc8-4d94-8dc5-ed00b00a4269",
   "metadata": {},
   "source": [
    "There is one missing date."
   ]
  },
  {
   "cell_type": "code",
   "execution_count": 49,
   "id": "2e707082-6ebe-4647-8344-adfd30019a3a",
   "metadata": {},
   "outputs": [
    {
     "data": {
      "text/html": [
       "<div>\n",
       "<style scoped>\n",
       "    .dataframe tbody tr th:only-of-type {\n",
       "        vertical-align: middle;\n",
       "    }\n",
       "\n",
       "    .dataframe tbody tr th {\n",
       "        vertical-align: top;\n",
       "    }\n",
       "\n",
       "    .dataframe thead th {\n",
       "        text-align: right;\n",
       "    }\n",
       "</style>\n",
       "<table border=\"1\" class=\"dataframe\">\n",
       "  <thead>\n",
       "    <tr style=\"text-align: right;\">\n",
       "      <th></th>\n",
       "      <th>order_date</th>\n",
       "    </tr>\n",
       "  </thead>\n",
       "  <tbody>\n",
       "    <tr>\n",
       "      <th>0</th>\n",
       "      <td>2024-01-20</td>\n",
       "    </tr>\n",
       "    <tr>\n",
       "      <th>1</th>\n",
       "      <td>2024-04-29</td>\n",
       "    </tr>\n",
       "    <tr>\n",
       "      <th>2</th>\n",
       "      <td>2024-01-08</td>\n",
       "    </tr>\n",
       "    <tr>\n",
       "      <th>3</th>\n",
       "      <td>2024-01-07</td>\n",
       "    </tr>\n",
       "    <tr>\n",
       "      <th>4</th>\n",
       "      <td>2024-03-07</td>\n",
       "    </tr>\n",
       "    <tr>\n",
       "      <th>6</th>\n",
       "      <td>2024-02-02</td>\n",
       "    </tr>\n",
       "    <tr>\n",
       "      <th>7</th>\n",
       "      <td>2024-02-17</td>\n",
       "    </tr>\n",
       "    <tr>\n",
       "      <th>8</th>\n",
       "      <td>2024-03-16</td>\n",
       "    </tr>\n",
       "    <tr>\n",
       "      <th>9</th>\n",
       "      <td>2024-02-28</td>\n",
       "    </tr>\n",
       "    <tr>\n",
       "      <th>10</th>\n",
       "      <td>2024-04-24</td>\n",
       "    </tr>\n",
       "  </tbody>\n",
       "</table>\n",
       "</div>"
      ],
      "text/plain": [
       "    order_date\n",
       "0   2024-01-20\n",
       "1   2024-04-29\n",
       "2   2024-01-08\n",
       "3   2024-01-07\n",
       "4   2024-03-07\n",
       "6   2024-02-02\n",
       "7   2024-02-17\n",
       "8   2024-03-16\n",
       "9   2024-02-28\n",
       "10  2024-04-24"
      ]
     },
     "execution_count": 49,
     "metadata": {},
     "output_type": "execute_result"
    }
   ],
   "source": [
    "raw_df[[\"order_date\"]].head(10)"
   ]
  },
  {
   "cell_type": "markdown",
   "id": "d6b69a6d-d675-41fe-a26d-8921cb608c3e",
   "metadata": {},
   "source": [
    "As we can see from the output, we don't get a chronologically sorted data if we order the records by the 'order_id' column. If that was the case, we could use forward fill, but for now let's drop it."
   ]
  },
  {
   "cell_type": "code",
   "execution_count": 51,
   "id": "85109b42-f35e-45fe-a3dd-3bfb595b5947",
   "metadata": {},
   "outputs": [],
   "source": [
    "# Drop missing date values\n",
    "raw_df.dropna(subset=[\"order_date\"], inplace=True)"
   ]
  },
  {
   "cell_type": "markdown",
   "id": "785ea3b8-4ec4-46e0-a6f6-172fd6e1157d",
   "metadata": {},
   "source": [
    "Let's make sure it is in datetime format."
   ]
  },
  {
   "cell_type": "code",
   "execution_count": 53,
   "id": "55e11451-c434-48e2-b747-69552670a073",
   "metadata": {},
   "outputs": [],
   "source": [
    "# Convert data types\n",
    "raw_df['order_date'] = pd.to_datetime(raw_df['order_date'], errors='coerce')"
   ]
  },
  {
   "cell_type": "markdown",
   "id": "ca1e18af-1be9-4115-9df5-841b1612d606",
   "metadata": {},
   "source": [
    "### Explore 'region' Column"
   ]
  },
  {
   "cell_type": "code",
   "execution_count": 55,
   "id": "88b16ae3-613a-4d5c-b806-eb5f832305b7",
   "metadata": {},
   "outputs": [
    {
     "data": {
      "text/plain": [
       "array(['South', 'North', nan, 'West', 'East'], dtype=object)"
      ]
     },
     "execution_count": 55,
     "metadata": {},
     "output_type": "execute_result"
    }
   ],
   "source": [
    "raw_df[\"region\"].unique()"
   ]
  },
  {
   "cell_type": "markdown",
   "id": "33a34bcb-2631-485f-87de-b581f60bebfb",
   "metadata": {},
   "source": [
    "Let's make sure our values are consistent using the following code first."
   ]
  },
  {
   "cell_type": "code",
   "execution_count": 57,
   "id": "0a1f1cf1-6ae4-435b-b850-149bf45f2de4",
   "metadata": {},
   "outputs": [],
   "source": [
    " # Define allowed regions\n",
    "ALLOWED_REGIONS = [\"North\", \"South\", \"West\", \"East\"]\n",
    "\n",
    "# Standardize text format (convert to string, strip whitespace, capitalize)\n",
    "raw_df[\"region\"] = raw_df[\"region\"].astype(str).str.strip().str.title()\n",
    "\n",
    "# Fix common typos and variants\n",
    "typo_map = {\n",
    "    \"Norh\": \"North\",\n",
    "    \"Soth\": \"South\",\n",
    "    \"Wst\": \"West\",\n",
    "    \"Est\": \"East\",\n",
    "    \"N\": \"North\",\n",
    "    \"S\": \"South\",\n",
    "    \"W\": \"West\", \n",
    "    \"E\": \"East\"\n",
    "}\n",
    "raw_df[\"region\"] = raw_df[\"region\"].replace(typo_map)\n",
    "\n",
    "# Validate against allowed list\n",
    "raw_df[\"region\"] = np.where(\n",
    "    raw_df[\"region\"].isin(ALLOWED_REGIONS),\n",
    "    raw_df[\"region\"],\n",
    "    np.nan  # Replace invalid entries with NaN\n",
    ")"
   ]
  },
  {
   "cell_type": "code",
   "execution_count": 58,
   "id": "7f9941ae-0168-47e2-a972-1935b5e5eeb0",
   "metadata": {},
   "outputs": [
    {
     "data": {
      "text/plain": [
       "25"
      ]
     },
     "execution_count": 58,
     "metadata": {},
     "output_type": "execute_result"
    }
   ],
   "source": [
    "raw_df[\"region\"].isnull().sum()"
   ]
  },
  {
   "cell_type": "markdown",
   "id": "b5110389-297f-4059-95a3-df403394d981",
   "metadata": {},
   "source": [
    "We have 25 missing values of regions.\n",
    "\n",
    "We will replace the missing values with \"Unkown\"."
   ]
  },
  {
   "cell_type": "code",
   "execution_count": 60,
   "id": "8c60471f-f5cd-4197-9ac1-9813848e946a",
   "metadata": {},
   "outputs": [],
   "source": [
    "# Handle missing values (NaNs) - Impute with 'Unknown'\n",
    "raw_df[\"region\"] = raw_df[\"region\"].fillna(\"Unknown\")"
   ]
  },
  {
   "cell_type": "code",
   "execution_count": 61,
   "id": "1ee9c316-3f78-4f0e-844c-764d67e1accd",
   "metadata": {},
   "outputs": [
    {
     "data": {
      "text/plain": [
       "0"
      ]
     },
     "execution_count": 61,
     "metadata": {},
     "output_type": "execute_result"
    }
   ],
   "source": [
    "raw_df[\"region\"].isnull().sum()"
   ]
  },
  {
   "cell_type": "markdown",
   "id": "cf821282-c7f9-4015-947b-49e02f4a3ead",
   "metadata": {},
   "source": [
    "## Enrichment"
   ]
  },
  {
   "cell_type": "markdown",
   "id": "247bb37b-91c6-414a-b0a8-09f92e953212",
   "metadata": {},
   "source": [
    "We create a 'total_price' column by multiplying 'unit_price' by 'quantity'."
   ]
  },
  {
   "cell_type": "code",
   "execution_count": 64,
   "id": "a8dcbb3c-6ad3-40be-bda4-69262ffc1be2",
   "metadata": {},
   "outputs": [
    {
     "data": {
      "text/html": [
       "<div>\n",
       "<style scoped>\n",
       "    .dataframe tbody tr th:only-of-type {\n",
       "        vertical-align: middle;\n",
       "    }\n",
       "\n",
       "    .dataframe tbody tr th {\n",
       "        vertical-align: top;\n",
       "    }\n",
       "\n",
       "    .dataframe thead th {\n",
       "        text-align: right;\n",
       "    }\n",
       "</style>\n",
       "<table border=\"1\" class=\"dataframe\">\n",
       "  <thead>\n",
       "    <tr style=\"text-align: right;\">\n",
       "      <th></th>\n",
       "      <th>order_id</th>\n",
       "      <th>customer_name</th>\n",
       "      <th>product</th>\n",
       "      <th>quantity</th>\n",
       "      <th>unit_price</th>\n",
       "      <th>order_date</th>\n",
       "      <th>region</th>\n",
       "      <th>total_price</th>\n",
       "    </tr>\n",
       "  </thead>\n",
       "  <tbody>\n",
       "    <tr>\n",
       "      <th>0</th>\n",
       "      <td>1</td>\n",
       "      <td>Diana</td>\n",
       "      <td>Tablet</td>\n",
       "      <td>1</td>\n",
       "      <td>500.0</td>\n",
       "      <td>2024-01-20</td>\n",
       "      <td>South</td>\n",
       "      <td>500.0</td>\n",
       "    </tr>\n",
       "    <tr>\n",
       "      <th>1</th>\n",
       "      <td>2</td>\n",
       "      <td>Eve</td>\n",
       "      <td>Computer</td>\n",
       "      <td>1</td>\n",
       "      <td>250.0</td>\n",
       "      <td>2024-04-29</td>\n",
       "      <td>North</td>\n",
       "      <td>250.0</td>\n",
       "    </tr>\n",
       "    <tr>\n",
       "      <th>2</th>\n",
       "      <td>3</td>\n",
       "      <td>Charlie</td>\n",
       "      <td>Computer</td>\n",
       "      <td>2</td>\n",
       "      <td>250.0</td>\n",
       "      <td>2024-01-08</td>\n",
       "      <td>Unknown</td>\n",
       "      <td>500.0</td>\n",
       "    </tr>\n",
       "    <tr>\n",
       "      <th>3</th>\n",
       "      <td>4</td>\n",
       "      <td>Eve</td>\n",
       "      <td>Computer</td>\n",
       "      <td>2</td>\n",
       "      <td>750.0</td>\n",
       "      <td>2024-01-07</td>\n",
       "      <td>West</td>\n",
       "      <td>1500.0</td>\n",
       "    </tr>\n",
       "    <tr>\n",
       "      <th>4</th>\n",
       "      <td>5</td>\n",
       "      <td>Eve</td>\n",
       "      <td>Tablet</td>\n",
       "      <td>3</td>\n",
       "      <td>750.0</td>\n",
       "      <td>2024-03-07</td>\n",
       "      <td>South</td>\n",
       "      <td>2250.0</td>\n",
       "    </tr>\n",
       "    <tr>\n",
       "      <th>6</th>\n",
       "      <td>7</td>\n",
       "      <td>Charlie</td>\n",
       "      <td>Monitor</td>\n",
       "      <td>2</td>\n",
       "      <td>750.0</td>\n",
       "      <td>2024-02-02</td>\n",
       "      <td>West</td>\n",
       "      <td>1500.0</td>\n",
       "    </tr>\n",
       "    <tr>\n",
       "      <th>7</th>\n",
       "      <td>8</td>\n",
       "      <td>Charlie</td>\n",
       "      <td>Computer</td>\n",
       "      <td>3</td>\n",
       "      <td>250.0</td>\n",
       "      <td>2024-02-17</td>\n",
       "      <td>Unknown</td>\n",
       "      <td>750.0</td>\n",
       "    </tr>\n",
       "    <tr>\n",
       "      <th>8</th>\n",
       "      <td>9</td>\n",
       "      <td>Charlie</td>\n",
       "      <td>Monitor</td>\n",
       "      <td>2</td>\n",
       "      <td>750.0</td>\n",
       "      <td>2024-03-16</td>\n",
       "      <td>West</td>\n",
       "      <td>1500.0</td>\n",
       "    </tr>\n",
       "    <tr>\n",
       "      <th>9</th>\n",
       "      <td>10</td>\n",
       "      <td>Eve</td>\n",
       "      <td>Monitor</td>\n",
       "      <td>1</td>\n",
       "      <td>500.0</td>\n",
       "      <td>2024-02-28</td>\n",
       "      <td>North</td>\n",
       "      <td>500.0</td>\n",
       "    </tr>\n",
       "    <tr>\n",
       "      <th>10</th>\n",
       "      <td>11</td>\n",
       "      <td>Anonymous</td>\n",
       "      <td>Monitor</td>\n",
       "      <td>3</td>\n",
       "      <td>750.0</td>\n",
       "      <td>2024-04-24</td>\n",
       "      <td>West</td>\n",
       "      <td>2250.0</td>\n",
       "    </tr>\n",
       "  </tbody>\n",
       "</table>\n",
       "</div>"
      ],
      "text/plain": [
       "    order_id customer_name   product  quantity  unit_price order_date  \\\n",
       "0          1         Diana    Tablet         1       500.0 2024-01-20   \n",
       "1          2           Eve  Computer         1       250.0 2024-04-29   \n",
       "2          3       Charlie  Computer         2       250.0 2024-01-08   \n",
       "3          4           Eve  Computer         2       750.0 2024-01-07   \n",
       "4          5           Eve    Tablet         3       750.0 2024-03-07   \n",
       "6          7       Charlie   Monitor         2       750.0 2024-02-02   \n",
       "7          8       Charlie  Computer         3       250.0 2024-02-17   \n",
       "8          9       Charlie   Monitor         2       750.0 2024-03-16   \n",
       "9         10           Eve   Monitor         1       500.0 2024-02-28   \n",
       "10        11     Anonymous   Monitor         3       750.0 2024-04-24   \n",
       "\n",
       "     region  total_price  \n",
       "0     South        500.0  \n",
       "1     North        250.0  \n",
       "2   Unknown        500.0  \n",
       "3      West       1500.0  \n",
       "4     South       2250.0  \n",
       "6      West       1500.0  \n",
       "7   Unknown        750.0  \n",
       "8      West       1500.0  \n",
       "9     North        500.0  \n",
       "10     West       2250.0  "
      ]
     },
     "execution_count": 64,
     "metadata": {},
     "output_type": "execute_result"
    }
   ],
   "source": [
    "# Enrichment\n",
    "\n",
    "# Create total_price\n",
    "raw_df['total_price'] = raw_df['quantity'] * raw_df['unit_price']\n",
    "raw_df.head(10)"
   ]
  },
  {
   "cell_type": "markdown",
   "id": "2a1b039f-8863-44bf-8925-c7dae66a0496",
   "metadata": {},
   "source": [
    "## Categorizaion\n",
    "\n",
    "Now, let's categorize the prices into 'Budget', 'Mid-Range', 'Premium', and 'Luxury' based on the following product-specific bins:\n",
    "\n",
    "**Price Bins Used:**\r\n",
    "\r\n",
    "| Product   | Budget | Mid-Range | Premium | Luxury |\r\n",
    "|-----------|--------|-----------|---------|--------|\r\n",
    "| Tablet    | 0–299  | 300–599   | 600–899 | 900+   |\r\n",
    "| Phone     | 0–499  | 500–799   | 800–1099| 1100+  |\r\n",
    "| Computer  | 0–799  | 800–1499  | 1500–2499 | 2500+ |\r\n",
    "| Monitor   | 0–199  | 200–399   | 400–599 | 600+   |"
   ]
  },
  {
   "cell_type": "code",
   "execution_count": 66,
   "id": "428886c6-bc78-436b-b03e-d27d1a6a9f7a",
   "metadata": {},
   "outputs": [],
   "source": [
    "# Categorization\n",
    "\n",
    "# Define product-specific bins and labels\n",
    "price_bins = {\n",
    "    'Tablet': [0, 300, 600, 900, float('inf')],\n",
    "    'Phone': [0, 500, 800, 1100, float('inf')],\n",
    "    'Computer': [0, 800, 1500, 2500, float('inf')],\n",
    "    'Monitor': [0, 200, 400, 600, float('inf')]\n",
    "}\n",
    "\n",
    "bin_labels = ['Budget', 'Mid-Range', 'Premium', 'Luxury']\n",
    "\n",
    "# Function to categorize price by product\n",
    "def categorize_price(row):\n",
    "    if pd.isna(row['unit_price']):\n",
    "        return np.nan\n",
    "    bins = price_bins.get(row['product'], [0, float('inf')])\n",
    "    return pd.cut(\n",
    "        [row['unit_price']],\n",
    "        bins=bins,\n",
    "        labels=bin_labels,\n",
    "        right=False\n",
    "    )[0]\n",
    "\n",
    "# Apply categorization\n",
    "raw_df['price_category'] = raw_df.apply(categorize_price, axis=1)"
   ]
  },
  {
   "cell_type": "code",
   "execution_count": 67,
   "id": "33c66edc-86c5-4ae3-9834-377913836b84",
   "metadata": {},
   "outputs": [
    {
     "data": {
      "text/html": [
       "<div>\n",
       "<style scoped>\n",
       "    .dataframe tbody tr th:only-of-type {\n",
       "        vertical-align: middle;\n",
       "    }\n",
       "\n",
       "    .dataframe tbody tr th {\n",
       "        vertical-align: top;\n",
       "    }\n",
       "\n",
       "    .dataframe thead th {\n",
       "        text-align: right;\n",
       "    }\n",
       "</style>\n",
       "<table border=\"1\" class=\"dataframe\">\n",
       "  <thead>\n",
       "    <tr style=\"text-align: right;\">\n",
       "      <th></th>\n",
       "      <th>order_id</th>\n",
       "      <th>customer_name</th>\n",
       "      <th>region</th>\n",
       "      <th>product</th>\n",
       "      <th>quantity</th>\n",
       "      <th>unit_price</th>\n",
       "      <th>total_price</th>\n",
       "      <th>price_category</th>\n",
       "      <th>order_date</th>\n",
       "    </tr>\n",
       "  </thead>\n",
       "  <tbody>\n",
       "    <tr>\n",
       "      <th>0</th>\n",
       "      <td>1</td>\n",
       "      <td>Diana</td>\n",
       "      <td>South</td>\n",
       "      <td>Tablet</td>\n",
       "      <td>1</td>\n",
       "      <td>500.0</td>\n",
       "      <td>500.0</td>\n",
       "      <td>Mid-Range</td>\n",
       "      <td>2024-01-20</td>\n",
       "    </tr>\n",
       "    <tr>\n",
       "      <th>1</th>\n",
       "      <td>2</td>\n",
       "      <td>Eve</td>\n",
       "      <td>North</td>\n",
       "      <td>Computer</td>\n",
       "      <td>1</td>\n",
       "      <td>250.0</td>\n",
       "      <td>250.0</td>\n",
       "      <td>Budget</td>\n",
       "      <td>2024-04-29</td>\n",
       "    </tr>\n",
       "    <tr>\n",
       "      <th>2</th>\n",
       "      <td>3</td>\n",
       "      <td>Charlie</td>\n",
       "      <td>Unknown</td>\n",
       "      <td>Computer</td>\n",
       "      <td>2</td>\n",
       "      <td>250.0</td>\n",
       "      <td>500.0</td>\n",
       "      <td>Budget</td>\n",
       "      <td>2024-01-08</td>\n",
       "    </tr>\n",
       "    <tr>\n",
       "      <th>3</th>\n",
       "      <td>4</td>\n",
       "      <td>Eve</td>\n",
       "      <td>West</td>\n",
       "      <td>Computer</td>\n",
       "      <td>2</td>\n",
       "      <td>750.0</td>\n",
       "      <td>1500.0</td>\n",
       "      <td>Budget</td>\n",
       "      <td>2024-01-07</td>\n",
       "    </tr>\n",
       "    <tr>\n",
       "      <th>4</th>\n",
       "      <td>5</td>\n",
       "      <td>Eve</td>\n",
       "      <td>South</td>\n",
       "      <td>Tablet</td>\n",
       "      <td>3</td>\n",
       "      <td>750.0</td>\n",
       "      <td>2250.0</td>\n",
       "      <td>Premium</td>\n",
       "      <td>2024-03-07</td>\n",
       "    </tr>\n",
       "    <tr>\n",
       "      <th>6</th>\n",
       "      <td>7</td>\n",
       "      <td>Charlie</td>\n",
       "      <td>West</td>\n",
       "      <td>Monitor</td>\n",
       "      <td>2</td>\n",
       "      <td>750.0</td>\n",
       "      <td>1500.0</td>\n",
       "      <td>Luxury</td>\n",
       "      <td>2024-02-02</td>\n",
       "    </tr>\n",
       "    <tr>\n",
       "      <th>7</th>\n",
       "      <td>8</td>\n",
       "      <td>Charlie</td>\n",
       "      <td>Unknown</td>\n",
       "      <td>Computer</td>\n",
       "      <td>3</td>\n",
       "      <td>250.0</td>\n",
       "      <td>750.0</td>\n",
       "      <td>Budget</td>\n",
       "      <td>2024-02-17</td>\n",
       "    </tr>\n",
       "    <tr>\n",
       "      <th>8</th>\n",
       "      <td>9</td>\n",
       "      <td>Charlie</td>\n",
       "      <td>West</td>\n",
       "      <td>Monitor</td>\n",
       "      <td>2</td>\n",
       "      <td>750.0</td>\n",
       "      <td>1500.0</td>\n",
       "      <td>Luxury</td>\n",
       "      <td>2024-03-16</td>\n",
       "    </tr>\n",
       "    <tr>\n",
       "      <th>9</th>\n",
       "      <td>10</td>\n",
       "      <td>Eve</td>\n",
       "      <td>North</td>\n",
       "      <td>Monitor</td>\n",
       "      <td>1</td>\n",
       "      <td>500.0</td>\n",
       "      <td>500.0</td>\n",
       "      <td>Premium</td>\n",
       "      <td>2024-02-28</td>\n",
       "    </tr>\n",
       "    <tr>\n",
       "      <th>10</th>\n",
       "      <td>11</td>\n",
       "      <td>Anonymous</td>\n",
       "      <td>West</td>\n",
       "      <td>Monitor</td>\n",
       "      <td>3</td>\n",
       "      <td>750.0</td>\n",
       "      <td>2250.0</td>\n",
       "      <td>Luxury</td>\n",
       "      <td>2024-04-24</td>\n",
       "    </tr>\n",
       "  </tbody>\n",
       "</table>\n",
       "</div>"
      ],
      "text/plain": [
       "    order_id customer_name   region   product  quantity  unit_price  \\\n",
       "0          1         Diana    South    Tablet         1       500.0   \n",
       "1          2           Eve    North  Computer         1       250.0   \n",
       "2          3       Charlie  Unknown  Computer         2       250.0   \n",
       "3          4           Eve     West  Computer         2       750.0   \n",
       "4          5           Eve    South    Tablet         3       750.0   \n",
       "6          7       Charlie     West   Monitor         2       750.0   \n",
       "7          8       Charlie  Unknown  Computer         3       250.0   \n",
       "8          9       Charlie     West   Monitor         2       750.0   \n",
       "9         10           Eve    North   Monitor         1       500.0   \n",
       "10        11     Anonymous     West   Monitor         3       750.0   \n",
       "\n",
       "    total_price price_category order_date  \n",
       "0         500.0      Mid-Range 2024-01-20  \n",
       "1         250.0         Budget 2024-04-29  \n",
       "2         500.0         Budget 2024-01-08  \n",
       "3        1500.0         Budget 2024-01-07  \n",
       "4        2250.0        Premium 2024-03-07  \n",
       "6        1500.0         Luxury 2024-02-02  \n",
       "7         750.0         Budget 2024-02-17  \n",
       "8        1500.0         Luxury 2024-03-16  \n",
       "9         500.0        Premium 2024-02-28  \n",
       "10       2250.0         Luxury 2024-04-24  "
      ]
     },
     "execution_count": 67,
     "metadata": {},
     "output_type": "execute_result"
    }
   ],
   "source": [
    "# Define the new column order\n",
    "new_order = [\n",
    "'order_id', \n",
    "'customer_name', \n",
    "'region', \n",
    "'product', \n",
    "'quantity', \n",
    "'unit_price', \n",
    "'total_price', \n",
    "'price_category', \n",
    "'order_date'\n",
    "]\n",
    "\n",
    "# Reorder the DataFrame\n",
    "raw_df = raw_df[new_order]\n",
    "raw_df.head(10)"
   ]
  },
  {
   "cell_type": "markdown",
   "id": "da591594-039e-4621-a0cf-599736eeddb9",
   "metadata": {},
   "source": [
    "# Transformation"
   ]
  },
  {
   "cell_type": "code",
   "execution_count": 69,
   "id": "3f276e38-8243-4a53-bf40-60408d80eee4",
   "metadata": {},
   "outputs": [],
   "source": [
    "def transform(path):\n",
    "\n",
    "    import pandas as pd\n",
    "    import numpy as np\n",
    "\n",
    "    # Load data\n",
    "    df = pd.read_csv(path)\n",
    "\n",
    "    # Drop duplicate rows\n",
    "    df.drop_duplicates(inplace=True)\n",
    "\n",
    "    # For customer_name (string column), fill with placeholder\n",
    "    df['customer_name'] = df['customer_name'].fillna('Anonymous')\n",
    "\n",
    "    # Define allowed product categories\n",
    "    ALLOWED_PRODUCTS = [\"Tablet\", \"Phone\", \"Computer\", \"Monitor\"]\n",
    "    \n",
    "    # Standardize text format (convert to string, strip whitespace, capitalize)\n",
    "    df[\"product\"] = df[\"product\"].astype(str).str.strip().str.title()\n",
    "    \n",
    "    # Fix common typos and variants\n",
    "    typo_map = {\n",
    "        \"LapTop\": \"Laptop\",\n",
    "        \"Laptp\": \"Laptop\",\n",
    "        \"Pc\": \"Computer\",\n",
    "        \"DeskTop\": \"Computer\",\n",
    "        \"Mob\": \"Phone\",\n",
    "        \"Smartphone\": \"Phone\",\n",
    "        \"Tab\": \"Tablet\",\n",
    "        \"Moni\": \"Monitor\"\n",
    "    }\n",
    "    df[\"product\"] = df[\"product\"].replace(typo_map)\n",
    "    \n",
    "    # Consolidate similar categories\n",
    "    consolidation_map = {\n",
    "        \"Laptop\": \"Computer\",  # Merge laptops into computers\n",
    "        \"Desktop\": \"Computer\",\n",
    "        \"Smart Phone\": \"Phone\"\n",
    "    }\n",
    "    df[\"product\"] = df[\"product\"].replace(consolidation_map)\n",
    "    \n",
    "    # Validate against allowed list\n",
    "    df[\"product\"] = np.where(\n",
    "        df[\"product\"].isin(ALLOWED_PRODUCTS),\n",
    "        df[\"product\"],\n",
    "        np.nan  # Replace invalid entries with NaN\n",
    "    )\n",
    "\n",
    "    # Fill missing quantity with the most frequent quantity per customer\n",
    "    df[\"quantity\"] = df.groupby(\"customer_name\")[\"quantity\"].transform(\n",
    "        lambda x: x.fillna(x.mode()[0]) if not x.mode().empty else x.fillna(1)\n",
    "    )\n",
    "\n",
    "    df['quantity'] = df['quantity'].astype(int)\n",
    "\n",
    "    # For each region-product group, impute NaN if only one unique non-NaN price exists\n",
    "    for region in df[\"region\"].dropna().unique():  # Skip NaN regions\n",
    "        for product in df[\"product\"].unique():\n",
    "            # Filter data for the current region-product group\n",
    "            mask = (df[\"region\"] == region) & (df[\"product\"] == product)\n",
    "            group_prices = df.loc[mask, \"unit_price\"]\n",
    "            \n",
    "            # Get unique non-NaN prices\n",
    "            unique_prices = group_prices.dropna().unique()\n",
    "            \n",
    "            # If only one unique price exists, impute NaN with that price\n",
    "            if len(unique_prices) == 1:\n",
    "                impute_value = unique_prices[0]\n",
    "                df.loc[mask & (df[\"unit_price\"].isna()), \"unit_price\"] = impute_value\n",
    "\n",
    "    # For remaining NaNs, impute with the product's global mode price\n",
    "    for product in df[\"product\"].unique():\n",
    "        product_mode = df[df[\"product\"] == product][\"unit_price\"].mode()\n",
    "        if not product_mode.empty:  # Check if mode exists (non-empty)\n",
    "            mode_price = product_mode[0]\n",
    "            product_mask = (df[\"product\"] == product) & (df[\"unit_price\"].isna())\n",
    "            df.loc[product_mask, \"unit_price\"] = mode_price\n",
    "\n",
    "    # Convert data types\n",
    "    df['order_date'] = pd.to_datetime(df['order_date'], errors='coerce')\n",
    "\n",
    "    # Drop missing date values\n",
    "    df.dropna(subset=[\"order_date\"], inplace=True)\n",
    "\n",
    "    # Define allowed regions\n",
    "    ALLOWED_REGIONS = [\"North\", \"South\", \"West\", \"East\"]\n",
    "    \n",
    "    # Standardize text format (convert to string, strip whitespace, capitalize)\n",
    "    df[\"region\"] = df[\"region\"].astype(str).str.strip().str.title()\n",
    "    \n",
    "    # Fix common typos and variants\n",
    "    typo_map = {\n",
    "        \"Norh\": \"North\",\n",
    "        \"Soth\": \"South\",\n",
    "        \"Wst\": \"West\",\n",
    "        \"Est\": \"East\",\n",
    "        \"N\": \"North\",\n",
    "        \"S\": \"South\",\n",
    "        \"W\": \"West\", \n",
    "        \"E\": \"East\"\n",
    "    }\n",
    "    df[\"region\"] = df[\"region\"].replace(typo_map)\n",
    "    \n",
    "    # Validate against allowed list\n",
    "    df[\"region\"] = np.where(\n",
    "        df[\"region\"].isin(ALLOWED_REGIONS),\n",
    "        df[\"region\"],\n",
    "        np.nan  # Replace invalid entries with NaN\n",
    "    )\n",
    "\n",
    "    # 5. Handle missing values (NaNs) - Impute with 'Unknown'\n",
    "    df[\"region\"] = df[\"region\"].fillna(\"Unknown\")\n",
    "\n",
    "    # Enrichment\n",
    "    \n",
    "    # Create total_price\n",
    "    df['total_price'] = df['quantity'] * df['unit_price']\n",
    "\n",
    "    # Categorization\n",
    "\n",
    "    # Define product-specific bins and labels\n",
    "    price_bins = {\n",
    "        'Tablet': [0, 300, 600, 900, float('inf')],\n",
    "        'Phone': [0, 500, 800, 1100, float('inf')],\n",
    "        'Computer': [0, 800, 1500, 2500, float('inf')],\n",
    "        'Monitor': [0, 200, 400, 600, float('inf')]\n",
    "    }\n",
    "    \n",
    "    bin_labels = ['Budget', 'Mid-Range', 'Premium', 'Luxury']\n",
    "    \n",
    "    # Function to categorize price by product\n",
    "    def categorize_price(row):\n",
    "        if pd.isna(row['unit_price']):\n",
    "            return np.nan\n",
    "        bins = price_bins.get(row['product'], [0, float('inf')])\n",
    "        return pd.cut(\n",
    "            [row['unit_price']],\n",
    "            bins=bins,\n",
    "            labels=bin_labels,\n",
    "            right=False\n",
    "        )[0]\n",
    "    \n",
    "    # Apply categorization\n",
    "    df['price_category'] = df.apply(categorize_price, axis=1)\n",
    "\n",
    "    # Define the new column order\n",
    "    new_order = [\n",
    "    'order_id', \n",
    "    'customer_name', \n",
    "    'region', \n",
    "    'product', \n",
    "    'quantity', \n",
    "    'unit_price', \n",
    "    'total_price', \n",
    "    'price_category', \n",
    "    'order_date'\n",
    "    ]\n",
    "\n",
    "    # Reorder the DataFrame\n",
    "    df = df[new_order]\n",
    "    \n",
    "    return df"
   ]
  },
  {
   "cell_type": "code",
   "execution_count": 70,
   "id": "386de87d-6d31-4bf9-9a56-5e09a68a7bfa",
   "metadata": {},
   "outputs": [
    {
     "name": "stdout",
     "output_type": "stream",
     "text": [
      " Transformed Full Data Sample:\n"
     ]
    },
    {
     "data": {
      "text/html": [
       "<div>\n",
       "<style scoped>\n",
       "    .dataframe tbody tr th:only-of-type {\n",
       "        vertical-align: middle;\n",
       "    }\n",
       "\n",
       "    .dataframe tbody tr th {\n",
       "        vertical-align: top;\n",
       "    }\n",
       "\n",
       "    .dataframe thead th {\n",
       "        text-align: right;\n",
       "    }\n",
       "</style>\n",
       "<table border=\"1\" class=\"dataframe\">\n",
       "  <thead>\n",
       "    <tr style=\"text-align: right;\">\n",
       "      <th></th>\n",
       "      <th>order_id</th>\n",
       "      <th>customer_name</th>\n",
       "      <th>region</th>\n",
       "      <th>product</th>\n",
       "      <th>quantity</th>\n",
       "      <th>unit_price</th>\n",
       "      <th>total_price</th>\n",
       "      <th>price_category</th>\n",
       "      <th>order_date</th>\n",
       "    </tr>\n",
       "  </thead>\n",
       "  <tbody>\n",
       "    <tr>\n",
       "      <th>0</th>\n",
       "      <td>1</td>\n",
       "      <td>Diana</td>\n",
       "      <td>South</td>\n",
       "      <td>Tablet</td>\n",
       "      <td>1</td>\n",
       "      <td>500.0</td>\n",
       "      <td>500.0</td>\n",
       "      <td>Mid-Range</td>\n",
       "      <td>2024-01-20</td>\n",
       "    </tr>\n",
       "    <tr>\n",
       "      <th>1</th>\n",
       "      <td>2</td>\n",
       "      <td>Eve</td>\n",
       "      <td>North</td>\n",
       "      <td>Computer</td>\n",
       "      <td>1</td>\n",
       "      <td>250.0</td>\n",
       "      <td>250.0</td>\n",
       "      <td>Budget</td>\n",
       "      <td>2024-04-29</td>\n",
       "    </tr>\n",
       "    <tr>\n",
       "      <th>2</th>\n",
       "      <td>3</td>\n",
       "      <td>Charlie</td>\n",
       "      <td>Unknown</td>\n",
       "      <td>Computer</td>\n",
       "      <td>2</td>\n",
       "      <td>250.0</td>\n",
       "      <td>500.0</td>\n",
       "      <td>Budget</td>\n",
       "      <td>2024-01-08</td>\n",
       "    </tr>\n",
       "    <tr>\n",
       "      <th>3</th>\n",
       "      <td>4</td>\n",
       "      <td>Eve</td>\n",
       "      <td>West</td>\n",
       "      <td>Computer</td>\n",
       "      <td>2</td>\n",
       "      <td>750.0</td>\n",
       "      <td>1500.0</td>\n",
       "      <td>Budget</td>\n",
       "      <td>2024-01-07</td>\n",
       "    </tr>\n",
       "    <tr>\n",
       "      <th>4</th>\n",
       "      <td>5</td>\n",
       "      <td>Eve</td>\n",
       "      <td>South</td>\n",
       "      <td>Tablet</td>\n",
       "      <td>3</td>\n",
       "      <td>750.0</td>\n",
       "      <td>2250.0</td>\n",
       "      <td>Premium</td>\n",
       "      <td>2024-03-07</td>\n",
       "    </tr>\n",
       "  </tbody>\n",
       "</table>\n",
       "</div>"
      ],
      "text/plain": [
       "   order_id customer_name   region   product  quantity  unit_price  \\\n",
       "0         1         Diana    South    Tablet         1       500.0   \n",
       "1         2           Eve    North  Computer         1       250.0   \n",
       "2         3       Charlie  Unknown  Computer         2       250.0   \n",
       "3         4           Eve     West  Computer         2       750.0   \n",
       "4         5           Eve    South    Tablet         3       750.0   \n",
       "\n",
       "   total_price price_category order_date  \n",
       "0        500.0      Mid-Range 2024-01-20  \n",
       "1        250.0         Budget 2024-04-29  \n",
       "2        500.0         Budget 2024-01-08  \n",
       "3       1500.0         Budget 2024-01-07  \n",
       "4       2250.0        Premium 2024-03-07  "
      ]
     },
     "metadata": {},
     "output_type": "display_data"
    },
    {
     "name": "stdout",
     "output_type": "stream",
     "text": [
      "\n",
      " Transformed Incremental Data Sample:\n"
     ]
    },
    {
     "data": {
      "text/html": [
       "<div>\n",
       "<style scoped>\n",
       "    .dataframe tbody tr th:only-of-type {\n",
       "        vertical-align: middle;\n",
       "    }\n",
       "\n",
       "    .dataframe tbody tr th {\n",
       "        vertical-align: top;\n",
       "    }\n",
       "\n",
       "    .dataframe thead th {\n",
       "        text-align: right;\n",
       "    }\n",
       "</style>\n",
       "<table border=\"1\" class=\"dataframe\">\n",
       "  <thead>\n",
       "    <tr style=\"text-align: right;\">\n",
       "      <th></th>\n",
       "      <th>order_id</th>\n",
       "      <th>customer_name</th>\n",
       "      <th>region</th>\n",
       "      <th>product</th>\n",
       "      <th>quantity</th>\n",
       "      <th>unit_price</th>\n",
       "      <th>total_price</th>\n",
       "      <th>price_category</th>\n",
       "      <th>order_date</th>\n",
       "    </tr>\n",
       "  </thead>\n",
       "  <tbody>\n",
       "    <tr>\n",
       "      <th>0</th>\n",
       "      <td>101</td>\n",
       "      <td>Alice</td>\n",
       "      <td>Unknown</td>\n",
       "      <td>Computer</td>\n",
       "      <td>1</td>\n",
       "      <td>900.0</td>\n",
       "      <td>900.0</td>\n",
       "      <td>Mid-Range</td>\n",
       "      <td>2024-05-09</td>\n",
       "    </tr>\n",
       "    <tr>\n",
       "      <th>1</th>\n",
       "      <td>102</td>\n",
       "      <td>Anonymous</td>\n",
       "      <td>Unknown</td>\n",
       "      <td>Computer</td>\n",
       "      <td>1</td>\n",
       "      <td>300.0</td>\n",
       "      <td>300.0</td>\n",
       "      <td>Budget</td>\n",
       "      <td>2024-05-07</td>\n",
       "    </tr>\n",
       "    <tr>\n",
       "      <th>2</th>\n",
       "      <td>103</td>\n",
       "      <td>Anonymous</td>\n",
       "      <td>Unknown</td>\n",
       "      <td>Computer</td>\n",
       "      <td>1</td>\n",
       "      <td>600.0</td>\n",
       "      <td>600.0</td>\n",
       "      <td>Budget</td>\n",
       "      <td>2024-05-04</td>\n",
       "    </tr>\n",
       "    <tr>\n",
       "      <th>3</th>\n",
       "      <td>104</td>\n",
       "      <td>Anonymous</td>\n",
       "      <td>Unknown</td>\n",
       "      <td>Tablet</td>\n",
       "      <td>1</td>\n",
       "      <td>300.0</td>\n",
       "      <td>300.0</td>\n",
       "      <td>Mid-Range</td>\n",
       "      <td>2024-05-26</td>\n",
       "    </tr>\n",
       "    <tr>\n",
       "      <th>4</th>\n",
       "      <td>105</td>\n",
       "      <td>Heidi</td>\n",
       "      <td>North</td>\n",
       "      <td>Tablet</td>\n",
       "      <td>2</td>\n",
       "      <td>600.0</td>\n",
       "      <td>1200.0</td>\n",
       "      <td>Premium</td>\n",
       "      <td>2024-05-21</td>\n",
       "    </tr>\n",
       "  </tbody>\n",
       "</table>\n",
       "</div>"
      ],
      "text/plain": [
       "   order_id customer_name   region   product  quantity  unit_price  \\\n",
       "0       101         Alice  Unknown  Computer         1       900.0   \n",
       "1       102     Anonymous  Unknown  Computer         1       300.0   \n",
       "2       103     Anonymous  Unknown  Computer         1       600.0   \n",
       "3       104     Anonymous  Unknown    Tablet         1       300.0   \n",
       "4       105         Heidi    North    Tablet         2       600.0   \n",
       "\n",
       "   total_price price_category order_date  \n",
       "0        900.0      Mid-Range 2024-05-09  \n",
       "1        300.0         Budget 2024-05-07  \n",
       "2        600.0         Budget 2024-05-04  \n",
       "3        300.0      Mid-Range 2024-05-26  \n",
       "4       1200.0        Premium 2024-05-21  "
      ]
     },
     "metadata": {},
     "output_type": "display_data"
    }
   ],
   "source": [
    "# Apply transformations\n",
    "transformed_raw = transform(\"raw_data.csv\")\n",
    "transformed_incremental = transform(\"incremental_data.csv\")\n",
    "\n",
    "# Show results\n",
    "print(\" Transformed Full Data Sample:\")\n",
    "display(transformed_raw.head())\n",
    "\n",
    "print(\"\\n Transformed Incremental Data Sample:\")\n",
    "display(transformed_incremental.head())\n",
    "\n",
    "# Save transformed datasets\n",
    "transformed_raw.to_csv(\"transformed/transformed_full.csv\", index=False)\n",
    "transformed_incremental.to_csv(\"transformed/transformed_incremental.csv\", index=False)"
   ]
  },
  {
   "cell_type": "code",
   "execution_count": 71,
   "id": "94086887-7c9a-4ad6-bd2b-bf28fbcb6ae4",
   "metadata": {},
   "outputs": [
    {
     "name": "stdout",
     "output_type": "stream",
     "text": [
      "\n",
      "Observations:\n",
      "- transformed_raw has 0 missing values.\n",
      "- transformed_incremental has 0 missing values.\n",
      "- transformed_raw has 0 duplicate rows.\n",
      "- transformed_incremental has 0 duplicate rows.\n"
     ]
    }
   ],
   "source": [
    "# Observations\n",
    "print(\"\\nObservations:\")\n",
    "print(f\"- transformed_raw has {transformed_raw.isnull().sum().sum()} missing values.\")\n",
    "print(f\"- transformed_incremental has {transformed_incremental.isnull().sum().sum()} missing values.\")\n",
    "print(f\"- transformed_raw has {transformed_raw.duplicated().sum()} duplicate rows.\")\n",
    "print(f\"- transformed_incremental has {transformed_incremental.duplicated().sum()} duplicate rows.\")"
   ]
  },
  {
   "cell_type": "code",
   "execution_count": 72,
   "id": "b577fccc-6a4e-4afe-8f9e-ed7a71424d13",
   "metadata": {},
   "outputs": [
    {
     "name": "stdout",
     "output_type": "stream",
     "text": [
      "🔍 Validating: transformed/transformed_full.csv\n",
      "\n",
      "✅ Shape: 98 rows × 9 columns\n",
      "\n",
      "📋 Columns and Data Types:\n",
      "order_id            int64\n",
      "customer_name      object\n",
      "region             object\n",
      "product            object\n",
      "quantity            int64\n",
      "unit_price        float64\n",
      "total_price       float64\n",
      "price_category     object\n",
      "order_date         object\n",
      "dtype: object\n",
      "\n",
      "✅ No missing values detected.\n",
      "\n",
      "🧾 Duplicate Rows: 0\n",
      "\n",
      "🔎 Sample Unique Values:\n",
      "- product: ['Tablet' 'Computer' 'Monitor' 'Phone']\n",
      "- region: ['South' 'North' 'Unknown' 'West' 'East']\n",
      "- price_category: ['Mid-Range' 'Budget' 'Premium' 'Luxury']\n",
      "\n",
      "✅ order_date column is valid datetime format.\n",
      "\n",
      "✅ total_price values are consistent with quantity × unit_price.\n",
      "\n",
      "✅ Validation complete.\n",
      "\n",
      "🔍 Validating: transformed/transformed_incremental.csv\n",
      "\n",
      "✅ Shape: 10 rows × 9 columns\n",
      "\n",
      "📋 Columns and Data Types:\n",
      "order_id            int64\n",
      "customer_name      object\n",
      "region             object\n",
      "product            object\n",
      "quantity            int64\n",
      "unit_price        float64\n",
      "total_price       float64\n",
      "price_category     object\n",
      "order_date         object\n",
      "dtype: object\n",
      "\n",
      "✅ No missing values detected.\n",
      "\n",
      "🧾 Duplicate Rows: 0\n",
      "\n",
      "🔎 Sample Unique Values:\n",
      "- product: ['Computer' 'Tablet' 'Phone']\n",
      "- region: ['Unknown' 'North']\n",
      "- price_category: ['Mid-Range' 'Budget' 'Premium']\n",
      "\n",
      "✅ order_date column is valid datetime format.\n",
      "\n",
      "✅ total_price values are consistent with quantity × unit_price.\n",
      "\n",
      "✅ Validation complete.\n",
      "\n"
     ]
    }
   ],
   "source": [
    "def validate_transformed_data(path):\n",
    "    print(f\"🔍 Validating: {path}\\n\")\n",
    "    \n",
    "    # Load the dataset\n",
    "    df = pd.read_csv(path)\n",
    "    \n",
    "    # 1. Shape\n",
    "    print(f\"✅ Shape: {df.shape[0]} rows × {df.shape[1]} columns\\n\")\n",
    "    \n",
    "    # 2. Column Names and Data Types\n",
    "    print(\"📋 Columns and Data Types:\")\n",
    "    print(df.dtypes)\n",
    "    print()\n",
    "    \n",
    "    # 3. Missing Values\n",
    "    missing = df.isnull().sum()\n",
    "    if missing.sum() == 0:\n",
    "        print(\"✅ No missing values detected.\\n\")\n",
    "    else:\n",
    "        print(\"⚠️ Missing Values Detected:\")\n",
    "        print(missing[missing > 0])\n",
    "        print()\n",
    "    \n",
    "    # 4. Duplicate Rows\n",
    "    num_duplicates = df.duplicated().sum()\n",
    "    print(f\"🧾 Duplicate Rows: {num_duplicates}\\n\")\n",
    "    \n",
    "    # 5. Value Checks\n",
    "    print(\"🔎 Sample Unique Values:\")\n",
    "    for col in ['product', 'region', 'price_category']:\n",
    "        if col in df.columns:\n",
    "            print(f\"- {col}: {df[col].dropna().unique()}\")\n",
    "    print()\n",
    "\n",
    "    # 6. Date Format Check\n",
    "    if 'order_date' in df.columns:\n",
    "        try:\n",
    "            pd.to_datetime(df['order_date'])\n",
    "            print(\"✅ order_date column is valid datetime format.\\n\")\n",
    "        except Exception as e:\n",
    "            print(\"❌ order_date format issue:\", e, \"\\n\")\n",
    "    \n",
    "    # 7. Price and Quantity Checks\n",
    "    if 'total_price' in df.columns and 'quantity' in df.columns and 'unit_price' in df.columns:\n",
    "        test_calc = df['quantity'] * df['unit_price']\n",
    "        if (abs(test_calc - df['total_price']) < 0.01).all():\n",
    "            print(\"✅ total_price values are consistent with quantity × unit_price.\\n\")\n",
    "        else:\n",
    "            print(\"❌ Inconsistent total_price values.\\n\")\n",
    "    \n",
    "    print(\"✅ Validation complete.\\n\")\n",
    "\n",
    "\n",
    "# Run the test on both transformed datasets\n",
    "validate_transformed_data(\"transformed/transformed_full.csv\")\n",
    "validate_transformed_data(\"transformed/transformed_incremental.csv\")"
   ]
  }
 ],
 "metadata": {
  "kernelspec": {
   "display_name": "Python 3 (ipykernel)",
   "language": "python",
   "name": "python3"
  },
  "language_info": {
   "codemirror_mode": {
    "name": "ipython",
    "version": 3
   },
   "file_extension": ".py",
   "mimetype": "text/x-python",
   "name": "python",
   "nbconvert_exporter": "python",
   "pygments_lexer": "ipython3",
   "version": "3.12.4"
  }
 },
 "nbformat": 4,
 "nbformat_minor": 5
}
