{
 "cells": [
  {
   "cell_type": "markdown",
   "id": "accb0901-069e-4158-9378-1c3f42072677",
   "metadata": {},
   "source": [
    "# 🧪 ETL Phase 1: Extract\r\n",
    "\r\n",
    "## 📁 Objective\r\n",
    "In this notebook, we begin the ETL (Extract, Transform, Load) pipeline by extracting data from two CSV files:\r\n",
    "- `raw_data.csv`\r\n",
    "- `incremental_data.csv`\r\n",
    "\r\n",
    "The goal is to:\r\n",
    "- Load and preview both datasets\r\n",
    "- Inspect their structure and contents\r\n",
    "- Identify missing values, duplicates, and any suspicious patterns\r\n",
    "- Save clean copies to the `/data/` directory for further processing"
   ]
  },
  {
   "cell_type": "markdown",
   "id": "043963a5-6e29-4ee2-adf3-89d90a85bfaf",
   "metadata": {},
   "source": [
    "## 📥 Step 1: Load Datasets\r\n",
    "We use the `pandas` library to load both CSV files into dataframes."
   ]
  },
  {
   "cell_type": "code",
   "execution_count": 3,
   "id": "3bd51e7b-5797-4ba5-a854-fe207f2affc2",
   "metadata": {},
   "outputs": [],
   "source": [
    "import pandas as pd\n",
    "import os\n",
    "\n",
    "# Create folder structure if it doesn't exist\n",
    "os.makedirs(\"data\", exist_ok=True)\n",
    "\n",
    "# Load raw_data.csv\n",
    "raw_df = pd.read_csv(\"raw_data.csv\")"
   ]
  },
  {
   "cell_type": "markdown",
   "id": "ba83ac88-9a18-4bd4-840b-0ba92a8a2bbb",
   "metadata": {},
   "source": [
    "## 👀 Step 2: Preview the Data\r\n",
    "We use `.head()` and `.info()` to inspect the first few rows and the overall structure of the data\r\n"
   ]
  },
  {
   "cell_type": "code",
   "execution_count": 5,
   "id": "97aad088-40dc-4a75-8051-8e98cd039990",
   "metadata": {},
   "outputs": [
    {
     "name": "stdout",
     "output_type": "stream",
     "text": [
      "Raw Data - First 5 Rows:\n"
     ]
    },
    {
     "data": {
      "text/html": [
       "<div>\n",
       "<style scoped>\n",
       "    .dataframe tbody tr th:only-of-type {\n",
       "        vertical-align: middle;\n",
       "    }\n",
       "\n",
       "    .dataframe tbody tr th {\n",
       "        vertical-align: top;\n",
       "    }\n",
       "\n",
       "    .dataframe thead th {\n",
       "        text-align: right;\n",
       "    }\n",
       "</style>\n",
       "<table border=\"1\" class=\"dataframe\">\n",
       "  <thead>\n",
       "    <tr style=\"text-align: right;\">\n",
       "      <th></th>\n",
       "      <th>order_id</th>\n",
       "      <th>customer_name</th>\n",
       "      <th>product</th>\n",
       "      <th>quantity</th>\n",
       "      <th>unit_price</th>\n",
       "      <th>order_date</th>\n",
       "      <th>region</th>\n",
       "    </tr>\n",
       "  </thead>\n",
       "  <tbody>\n",
       "    <tr>\n",
       "      <th>0</th>\n",
       "      <td>1</td>\n",
       "      <td>Diana</td>\n",
       "      <td>Tablet</td>\n",
       "      <td>NaN</td>\n",
       "      <td>500.0</td>\n",
       "      <td>2024-01-20</td>\n",
       "      <td>South</td>\n",
       "    </tr>\n",
       "    <tr>\n",
       "      <th>1</th>\n",
       "      <td>2</td>\n",
       "      <td>Eve</td>\n",
       "      <td>Laptop</td>\n",
       "      <td>NaN</td>\n",
       "      <td>NaN</td>\n",
       "      <td>2024-04-29</td>\n",
       "      <td>North</td>\n",
       "    </tr>\n",
       "    <tr>\n",
       "      <th>2</th>\n",
       "      <td>3</td>\n",
       "      <td>Charlie</td>\n",
       "      <td>Laptop</td>\n",
       "      <td>2.0</td>\n",
       "      <td>250.0</td>\n",
       "      <td>2024-01-08</td>\n",
       "      <td>NaN</td>\n",
       "    </tr>\n",
       "    <tr>\n",
       "      <th>3</th>\n",
       "      <td>4</td>\n",
       "      <td>Eve</td>\n",
       "      <td>Laptop</td>\n",
       "      <td>2.0</td>\n",
       "      <td>750.0</td>\n",
       "      <td>2024-01-07</td>\n",
       "      <td>West</td>\n",
       "    </tr>\n",
       "    <tr>\n",
       "      <th>4</th>\n",
       "      <td>5</td>\n",
       "      <td>Eve</td>\n",
       "      <td>Tablet</td>\n",
       "      <td>3.0</td>\n",
       "      <td>NaN</td>\n",
       "      <td>2024-03-07</td>\n",
       "      <td>South</td>\n",
       "    </tr>\n",
       "  </tbody>\n",
       "</table>\n",
       "</div>"
      ],
      "text/plain": [
       "   order_id customer_name product  quantity  unit_price  order_date region\n",
       "0         1         Diana  Tablet       NaN       500.0  2024-01-20  South\n",
       "1         2           Eve  Laptop       NaN         NaN  2024-04-29  North\n",
       "2         3       Charlie  Laptop       2.0       250.0  2024-01-08    NaN\n",
       "3         4           Eve  Laptop       2.0       750.0  2024-01-07   West\n",
       "4         5           Eve  Tablet       3.0         NaN  2024-03-07  South"
      ]
     },
     "metadata": {},
     "output_type": "display_data"
    },
    {
     "name": "stdout",
     "output_type": "stream",
     "text": [
      "\n",
      "Raw Data - Info:\n",
      "<class 'pandas.core.frame.DataFrame'>\n",
      "RangeIndex: 100 entries, 0 to 99\n",
      "Data columns (total 7 columns):\n",
      " #   Column         Non-Null Count  Dtype  \n",
      "---  ------         --------------  -----  \n",
      " 0   order_id       100 non-null    int64  \n",
      " 1   customer_name  99 non-null     object \n",
      " 2   product        100 non-null    object \n",
      " 3   quantity       74 non-null     float64\n",
      " 4   unit_price     65 non-null     float64\n",
      " 5   order_date     99 non-null     object \n",
      " 6   region         75 non-null     object \n",
      "dtypes: float64(2), int64(1), object(4)\n",
      "memory usage: 5.6+ KB\n",
      "None\n",
      "\n",
      "Incremental Data - First 5 Rows:\n"
     ]
    },
    {
     "data": {
      "text/html": [
       "<div>\n",
       "<style scoped>\n",
       "    .dataframe tbody tr th:only-of-type {\n",
       "        vertical-align: middle;\n",
       "    }\n",
       "\n",
       "    .dataframe tbody tr th {\n",
       "        vertical-align: top;\n",
       "    }\n",
       "\n",
       "    .dataframe thead th {\n",
       "        text-align: right;\n",
       "    }\n",
       "</style>\n",
       "<table border=\"1\" class=\"dataframe\">\n",
       "  <thead>\n",
       "    <tr style=\"text-align: right;\">\n",
       "      <th></th>\n",
       "      <th>order_id</th>\n",
       "      <th>customer_name</th>\n",
       "      <th>product</th>\n",
       "      <th>quantity</th>\n",
       "      <th>unit_price</th>\n",
       "      <th>order_date</th>\n",
       "      <th>region</th>\n",
       "    </tr>\n",
       "  </thead>\n",
       "  <tbody>\n",
       "    <tr>\n",
       "      <th>0</th>\n",
       "      <td>101</td>\n",
       "      <td>Alice</td>\n",
       "      <td>Laptop</td>\n",
       "      <td>NaN</td>\n",
       "      <td>900.0</td>\n",
       "      <td>2024-05-09</td>\n",
       "      <td>Central</td>\n",
       "    </tr>\n",
       "    <tr>\n",
       "      <th>1</th>\n",
       "      <td>102</td>\n",
       "      <td>NaN</td>\n",
       "      <td>Laptop</td>\n",
       "      <td>1.0</td>\n",
       "      <td>300.0</td>\n",
       "      <td>2024-05-07</td>\n",
       "      <td>Central</td>\n",
       "    </tr>\n",
       "    <tr>\n",
       "      <th>2</th>\n",
       "      <td>103</td>\n",
       "      <td>NaN</td>\n",
       "      <td>Laptop</td>\n",
       "      <td>1.0</td>\n",
       "      <td>600.0</td>\n",
       "      <td>2024-05-04</td>\n",
       "      <td>Central</td>\n",
       "    </tr>\n",
       "    <tr>\n",
       "      <th>3</th>\n",
       "      <td>104</td>\n",
       "      <td>NaN</td>\n",
       "      <td>Tablet</td>\n",
       "      <td>NaN</td>\n",
       "      <td>300.0</td>\n",
       "      <td>2024-05-26</td>\n",
       "      <td>Central</td>\n",
       "    </tr>\n",
       "    <tr>\n",
       "      <th>4</th>\n",
       "      <td>105</td>\n",
       "      <td>Heidi</td>\n",
       "      <td>Tablet</td>\n",
       "      <td>2.0</td>\n",
       "      <td>600.0</td>\n",
       "      <td>2024-05-21</td>\n",
       "      <td>North</td>\n",
       "    </tr>\n",
       "  </tbody>\n",
       "</table>\n",
       "</div>"
      ],
      "text/plain": [
       "   order_id customer_name product  quantity  unit_price  order_date   region\n",
       "0       101         Alice  Laptop       NaN       900.0  2024-05-09  Central\n",
       "1       102           NaN  Laptop       1.0       300.0  2024-05-07  Central\n",
       "2       103           NaN  Laptop       1.0       600.0  2024-05-04  Central\n",
       "3       104           NaN  Tablet       NaN       300.0  2024-05-26  Central\n",
       "4       105         Heidi  Tablet       2.0       600.0  2024-05-21    North"
      ]
     },
     "metadata": {},
     "output_type": "display_data"
    },
    {
     "name": "stdout",
     "output_type": "stream",
     "text": [
      "\n",
      "Incremental Data - Info:\n",
      "<class 'pandas.core.frame.DataFrame'>\n",
      "RangeIndex: 10 entries, 0 to 9\n",
      "Data columns (total 7 columns):\n",
      " #   Column         Non-Null Count  Dtype  \n",
      "---  ------         --------------  -----  \n",
      " 0   order_id       10 non-null     int64  \n",
      " 1   customer_name  4 non-null      object \n",
      " 2   product        10 non-null     object \n",
      " 3   quantity       6 non-null      float64\n",
      " 4   unit_price     10 non-null     float64\n",
      " 5   order_date     10 non-null     object \n",
      " 6   region         8 non-null      object \n",
      "dtypes: float64(2), int64(1), object(4)\n",
      "memory usage: 692.0+ bytes\n",
      "None\n"
     ]
    }
   ],
   "source": [
    "print(\"Raw Data - First 5 Rows:\")\n",
    "display(raw_df.head())\n",
    "\n",
    "print(\"\\nRaw Data - Info:\")\n",
    "print(raw_df.info())\n",
    "\n",
    "# Load incremental_data.csv\n",
    "incremental_df = pd.read_csv(\"incremental_data.csv\")\n",
    "print(\"\\nIncremental Data - First 5 Rows:\")\n",
    "display(incremental_df.head())\n",
    "\n",
    "print(\"\\nIncremental Data - Info:\")\n",
    "print(incremental_df.info())"
   ]
  },
  {
   "cell_type": "markdown",
   "id": "e692cd29-2b4e-47c7-9001-55f8e0409e7a",
   "metadata": {},
   "source": [
    "## 🔎 Step 3: Observations\r\n",
    "Here we examine the following:\r\n",
    "- Presence of missing values\r\n",
    "- Number of duplicate rows\r\n",
    "- Suspicious columns or irregular entries"
   ]
  },
  {
   "cell_type": "code",
   "execution_count": 7,
   "id": "e1ca83a9-0bbe-4350-a3a3-817c39d8691b",
   "metadata": {},
   "outputs": [
    {
     "name": "stdout",
     "output_type": "stream",
     "text": [
      "\n",
      "Observations:\n",
      "- raw_data has 88 missing values.\n",
      "- incremental_data has 12 missing values.\n",
      "- raw_data has 1 duplicate rows.\n",
      "- incremental_data has 0 duplicate rows.\n"
     ]
    }
   ],
   "source": [
    "# Observations\n",
    "print(\"\\nObservations:\")\n",
    "print(f\"- raw_data has {raw_df.isnull().sum().sum()} missing values.\")\n",
    "print(f\"- incremental_data has {incremental_df.isnull().sum().sum()} missing values.\")\n",
    "print(f\"- raw_data has {raw_df.duplicated().sum()} duplicate rows.\")\n",
    "print(f\"- incremental_data has {incremental_df.duplicated().sum()} duplicate rows.\")"
   ]
  },
  {
   "cell_type": "markdown",
   "id": "5411e261-8c20-42c0-9bf9-f3a0f25e6d6c",
   "metadata": {},
   "source": [
    "## 💾 Step 4: Save Raw Copies\r\n",
    "Finally, we store the loaded datasets into the `/data/` folder to preserve the original extracted form of the data for later stages in the ETL pipeline."
   ]
  },
  {
   "cell_type": "code",
   "execution_count": 9,
   "id": "c8dbeef6-5580-4e72-86a7-e23cf18203f6",
   "metadata": {},
   "outputs": [
    {
     "name": "stdout",
     "output_type": "stream",
     "text": [
      "'raw_data.csv' saved successfully!\n",
      "'incremental_data.csv' saved successfully!\n"
     ]
    }
   ],
   "source": [
    "# Save raw copies to data/\n",
    "raw_df.to_csv(\"data/raw_data.csv\", index=False)\n",
    "print(\"'raw_data.csv' saved successfully!\")\n",
    "incremental_df.to_csv(\"data/incremental_data.csv\", index=False)\n",
    "print(\"'incremental_data.csv' saved successfully!\")"
   ]
  }
 ],
 "metadata": {
  "kernelspec": {
   "display_name": "Python 3 (ipykernel)",
   "language": "python",
   "name": "python3"
  },
  "language_info": {
   "codemirror_mode": {
    "name": "ipython",
    "version": 3
   },
   "file_extension": ".py",
   "mimetype": "text/x-python",
   "name": "python",
   "nbconvert_exporter": "python",
   "pygments_lexer": "ipython3",
   "version": "3.12.4"
  }
 },
 "nbformat": 4,
 "nbformat_minor": 5
}
